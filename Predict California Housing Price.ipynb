{
 "cells": [
  {
   "cell_type": "markdown",
   "id": "ca09c705",
   "metadata": {},
   "source": [
    "CIS 4567 - Big Data Analytics\n",
    "\n",
    "Allen Yang\n",
    "\n",
    "\n",
    "The project aims at building a model of housing prices to predict median house values in California with obtained dataset. By being able to predict median housing price with given metrics, an investor will be able to decide whether housing prices are undervalued thus provides a buying opportunity or overvalued thus provides a selling opportunity.\n",
    "\n",
    "The dataset used is California Census Data published by the US Census Bureau which has 10 types of metrics for each block group in California. Districts or block groups are the smallest geographical units for which the US Census Bureau publishes sample data (a block group typically has a population of 600 to 3,000 people). There are 20,640 districts in the project dataset.\n",
    "\n",
    "Dataset Details\n",
    "\n",
    "Columns for independent variables:\n",
    "longitude (the longitude of the district)\n",
    "latitude (the latitude of the district)\n",
    "housing_median_age (the median age of the houses in the district)\n",
    "total_rooms (total number of rooms in the district)\n",
    "total_bedrooms (total number of bedrooms in the district)\n",
    "population (population of the district)\n",
    "households (total number of households in the district)\n",
    "median_income (the median income of the district)\n",
    "ocean_proximity (proximity to the ocean)\n",
    "\n",
    "Columns for dependent variables:\n",
    "median_house_value (the median house value in the district)\n",
    "\n",
    "\n"
   ]
  },
  {
   "cell_type": "code",
   "execution_count": 1,
   "id": "aaff0fc3",
   "metadata": {},
   "outputs": [
    {
     "data": {
      "application/vnd.jupyter.widget-view+json": {
       "model_id": "ed204af61b4746b1b0745b45421a7fa3",
       "version_major": 2,
       "version_minor": 0
      },
      "text/plain": [
       "VBox()"
      ]
     },
     "metadata": {},
     "output_type": "display_data"
    },
    {
     "name": "stdout",
     "output_type": "stream",
     "text": [
      "Starting Spark application\n"
     ]
    },
    {
     "data": {
      "text/html": [
       "<table>\n",
       "<tr><th>ID</th><th>YARN Application ID</th><th>Kind</th><th>State</th><th>Spark UI</th><th>Driver log</th><th>User</th><th>Current session?</th></tr><tr><td>0</td><td>application_1715577679324_0001</td><td>pyspark</td><td>idle</td><td><a target=\"_blank\" href=\"http://ip-172-31-40-192.ec2.internal:20888/proxy/application_1715577679324_0001/\" class=\"emr-proxy-link\" emr-resource=\"j-11229ZLIW1EXU\n",
       "\" application-id=\"application_1715577679324_0001\">Link</a></td><td><a target=\"_blank\" href=\"http://ip-172-31-40-192.ec2.internal:8042/node/containerlogs/container_1715577679324_0001_01_000001/livy\" >Link</a></td><td>None</td><td>✔</td></tr></table>"
      ],
      "text/plain": [
       "<IPython.core.display.HTML object>"
      ]
     },
     "metadata": {},
     "output_type": "display_data"
    },
    {
     "data": {
      "application/vnd.jupyter.widget-view+json": {
       "model_id": "",
       "version_major": 2,
       "version_minor": 0
      },
      "text/plain": [
       "FloatProgress(value=0.0, bar_style='info', description='Progress:', layout=Layout(height='25px', width='50%'),…"
      ]
     },
     "metadata": {},
     "output_type": "display_data"
    },
    {
     "name": "stdout",
     "output_type": "stream",
     "text": [
      "SparkSession available as 'spark'.\n"
     ]
    },
    {
     "data": {
      "application/vnd.jupyter.widget-view+json": {
       "model_id": "",
       "version_major": 2,
       "version_minor": 0
      },
      "text/plain": [
       "FloatProgress(value=0.0, bar_style='info', description='Progress:', layout=Layout(height='25px', width='50%'),…"
      ]
     },
     "metadata": {},
     "output_type": "display_data"
    },
    {
     "name": "stdout",
     "output_type": "stream",
     "text": [
      "/mnt/yarn/usercache/livy/appcache/application_1715577679324_0001/container_1715577679324_0001_01_000001/pyspark.zip/pyspark/pandas/__init__.py:51: UserWarning: 'PYARROW_IGNORE_TIMEZONE' environment variable was not set. It is required to set this environment variable to '1' in both driver and executor sides if you use pyarrow>=2.0.0. pandas-on-Spark will set it for you but it does not work if there is a Spark context already launched."
     ]
    }
   ],
   "source": [
    "import pyspark.pandas as ps\n",
    "import matplotlib.pyplot as plt\n",
    "import pyspark.ml.regression as rg\n",
    "import pyspark.ml.feature as feat\n",
    "import pyspark.sql.functions as F\n",
    "from pyspark.ml import Pipeline\n",
    "import numpy as np\n",
    "import pandas as pd\n",
    "import pyspark.ml.tuning as tune\n",
    "import pyspark.ml.evaluation as ev\n",
    "\n",
    "\n",
    "#set plotting backend to matplotlib instead of plotly\n",
    "ps.set_option('plotting.backend', 'matplotlib')\n"
   ]
  },
  {
   "cell_type": "code",
   "execution_count": 2,
   "id": "7d028a23",
   "metadata": {},
   "outputs": [
    {
     "data": {
      "application/vnd.jupyter.widget-view+json": {
       "model_id": "5e8502736cc746f299537f5c43ea00ed",
       "version_major": 2,
       "version_minor": 0
      },
      "text/plain": [
       "VBox()"
      ]
     },
     "metadata": {},
     "output_type": "display_data"
    },
    {
     "data": {
      "application/vnd.jupyter.widget-view+json": {
       "model_id": "",
       "version_major": 2,
       "version_minor": 0
      },
      "text/plain": [
       "FloatProgress(value=0.0, bar_style='info', description='Progress:', layout=Layout(height='25px', width='50%'),…"
      ]
     },
     "metadata": {},
     "output_type": "display_data"
    },
    {
     "name": "stdout",
     "output_type": "stream",
     "text": [
      "/mnt/yarn/usercache/livy/appcache/application_1715577679324_0001/container_1715577679324_0001_01_000001/pyspark.zip/pyspark/pandas/utils.py:975: PandasAPIOnSparkAdviceWarning: If `index_col` is not specified for `read_csv`, the default index is attached which can cause additional overhead."
     ]
    }
   ],
   "source": [
    "# read csv file from s3\n",
    "sample_data_csv = ps.read_csv('s3://allenyang/1553768847-housing.csv')"
   ]
  },
  {
   "cell_type": "code",
   "execution_count": 3,
   "id": "a23f7712",
   "metadata": {},
   "outputs": [
    {
     "data": {
      "application/vnd.jupyter.widget-view+json": {
       "model_id": "880f8f4087734b57904e4b5a31f092a5",
       "version_major": 2,
       "version_minor": 0
      },
      "text/plain": [
       "VBox()"
      ]
     },
     "metadata": {},
     "output_type": "display_data"
    },
    {
     "data": {
      "application/vnd.jupyter.widget-view+json": {
       "model_id": "",
       "version_major": 2,
       "version_minor": 0
      },
      "text/plain": [
       "FloatProgress(value=0.0, bar_style='info', description='Progress:', layout=Layout(height='25px', width='50%'),…"
      ]
     },
     "metadata": {},
     "output_type": "display_data"
    },
    {
     "name": "stdout",
     "output_type": "stream",
     "text": [
      "   longitude  latitude  housing_median_age  total_rooms  total_bedrooms  population  households  median_income ocean_proximity  median_house_value\n",
      "0    -122.23     37.88                  41          880             129         322         126         8.3252        NEAR BAY              452600\n",
      "1    -122.22     37.86                  21         7099            1106        2401        1138         8.3014        NEAR BAY              358500\n",
      "2    -122.24     37.85                  52         1467             190         496         177         7.2574        NEAR BAY              352100\n",
      "3    -122.25     37.85                  52         1274             235         558         219         5.6431        NEAR BAY              341300\n",
      "4    -122.25     37.85                  52         1627             280         565         259         3.8462        NEAR BAY              342200"
     ]
    }
   ],
   "source": [
    "# display the head of the dataframe created from csv\n",
    "sample_data_csv.head()"
   ]
  },
  {
   "cell_type": "code",
   "execution_count": 4,
   "id": "461454e1",
   "metadata": {},
   "outputs": [
    {
     "data": {
      "application/vnd.jupyter.widget-view+json": {
       "model_id": "6b1fd6c6eb37492eb8647eccfe0c17c8",
       "version_major": 2,
       "version_minor": 0
      },
      "text/plain": [
       "VBox()"
      ]
     },
     "metadata": {},
     "output_type": "display_data"
    },
    {
     "data": {
      "application/vnd.jupyter.widget-view+json": {
       "model_id": "",
       "version_major": 2,
       "version_minor": 0
      },
      "text/plain": [
       "FloatProgress(value=0.0, bar_style='info', description='Progress:', layout=Layout(height='25px', width='50%'),…"
      ]
     },
     "metadata": {},
     "output_type": "display_data"
    },
    {
     "name": "stdout",
     "output_type": "stream",
     "text": [
      "<class 'pyspark.pandas.frame.DataFrame'>\n",
      "Int64Index: 20640 entries, 0 to 20639\n",
      "Data columns (total 10 columns):\n",
      " #   Column              Non-Null Count  Dtype  \n",
      "---  ------              --------------  -----  \n",
      " 0   longitude           20640 non-null  float64\n",
      " 1   latitude            20640 non-null  float64\n",
      " 2   housing_median_age  20640 non-null  int32  \n",
      " 3   total_rooms         20640 non-null  int32  \n",
      " 4   total_bedrooms      20433 non-null  int32  \n",
      " 5   population          20640 non-null  int32  \n",
      " 6   households          20640 non-null  int32  \n",
      " 7   median_income       20640 non-null  float64\n",
      " 8   ocean_proximity     20640 non-null  object \n",
      " 9   median_house_value  20640 non-null  int32  \n",
      "dtypes: float64(3), int32(6), object(1)"
     ]
    }
   ],
   "source": [
    "# display information of the dataset\n",
    "sample_data_csv.info()"
   ]
  },
  {
   "cell_type": "markdown",
   "id": "5578e0c1",
   "metadata": {},
   "source": [
    "# Data Preprocessing"
   ]
  },
  {
   "cell_type": "code",
   "execution_count": 5,
   "id": "48a36d5b",
   "metadata": {},
   "outputs": [
    {
     "data": {
      "application/vnd.jupyter.widget-view+json": {
       "model_id": "0e8e4124cb2c4c8691555a19d09736b8",
       "version_major": 2,
       "version_minor": 0
      },
      "text/plain": [
       "VBox()"
      ]
     },
     "metadata": {},
     "output_type": "display_data"
    },
    {
     "data": {
      "application/vnd.jupyter.widget-view+json": {
       "model_id": "",
       "version_major": 2,
       "version_minor": 0
      },
      "text/plain": [
       "FloatProgress(value=0.0, bar_style='info', description='Progress:', layout=Layout(height='25px', width='50%'),…"
      ]
     },
     "metadata": {},
     "output_type": "display_data"
    },
    {
     "name": "stdout",
     "output_type": "stream",
     "text": [
      "20640 20640\n",
      "/mnt/yarn/usercache/livy/appcache/application_1715394311875_0001/container_1715394311875_0001_01_000001/pyspark.zip/pyspark/pandas/utils.py:975: PandasAPIOnSparkAdviceWarning: If `index_col` is not specified for `to_spark`, the existing index is lost when converting to Spark DataFrame.\n",
      "  warnings.warn(message, PandasAPIOnSparkAdviceWarning)"
     ]
    }
   ],
   "source": [
    "# do we have any rows that are duplicated?\n",
    "print(sample_data_csv.shape[0], sample_data_csv.to_spark().distinct().count())"
   ]
  },
  {
   "cell_type": "code",
   "execution_count": 3,
   "id": "b04f5635",
   "metadata": {},
   "outputs": [
    {
     "data": {
      "application/vnd.jupyter.widget-view+json": {
       "model_id": "c9c3db10380143cfbf1c3fb983a9360f",
       "version_major": 2,
       "version_minor": 0
      },
      "text/plain": [
       "VBox()"
      ]
     },
     "metadata": {},
     "output_type": "display_data"
    },
    {
     "data": {
      "application/vnd.jupyter.widget-view+json": {
       "model_id": "",
       "version_major": 2,
       "version_minor": 0
      },
      "text/plain": [
       "FloatProgress(value=0.0, bar_style='info', description='Progress:', layout=Layout(height='25px', width='50%'),…"
      ]
     },
     "metadata": {},
     "output_type": "display_data"
    },
    {
     "name": "stdout",
     "output_type": "stream",
     "text": [
      "(20640, 10)"
     ]
    }
   ],
   "source": [
    "# there are no duplicates. however, if we use a different dataset, we may have duplicates\n",
    "# remove the duplicated rows\n",
    "full_removed = sample_data_csv.drop_duplicates()\n",
    "full_removed.shape"
   ]
  },
  {
   "cell_type": "code",
   "execution_count": 4,
   "id": "7a1bca78",
   "metadata": {},
   "outputs": [
    {
     "data": {
      "application/vnd.jupyter.widget-view+json": {
       "model_id": "aa250b245cc743f7a82c97aa0e938c1c",
       "version_major": 2,
       "version_minor": 0
      },
      "text/plain": [
       "VBox()"
      ]
     },
     "metadata": {},
     "output_type": "display_data"
    },
    {
     "data": {
      "application/vnd.jupyter.widget-view+json": {
       "model_id": "",
       "version_major": 2,
       "version_minor": 0
      },
      "text/plain": [
       "FloatProgress(value=0.0, bar_style='info', description='Progress:', layout=Layout(height='25px', width='50%'),…"
      ]
     },
     "metadata": {},
     "output_type": "display_data"
    },
    {
     "name": "stdout",
     "output_type": "stream",
     "text": [
      "longitude               0\n",
      "latitude                0\n",
      "housing_median_age      0\n",
      "total_rooms             0\n",
      "total_bedrooms        207\n",
      "population              0\n",
      "households              0\n",
      "median_income           0\n",
      "ocean_proximity         0\n",
      "median_house_value      0\n",
      "dtype: int64"
     ]
    }
   ],
   "source": [
    "# are there missiong values\n",
    "full_removed.isna().sum()\n"
   ]
  },
  {
   "cell_type": "code",
   "execution_count": 5,
   "id": "9d68757f",
   "metadata": {},
   "outputs": [
    {
     "data": {
      "application/vnd.jupyter.widget-view+json": {
       "model_id": "2b05e8f0eeea46d0bb82f1d4c3528254",
       "version_major": 2,
       "version_minor": 0
      },
      "text/plain": [
       "VBox()"
      ]
     },
     "metadata": {},
     "output_type": "display_data"
    },
    {
     "data": {
      "application/vnd.jupyter.widget-view+json": {
       "model_id": "",
       "version_major": 2,
       "version_minor": 0
      },
      "text/plain": [
       "FloatProgress(value=0.0, bar_style='info', description='Progress:', layout=Layout(height='25px', width='50%'),…"
      ]
     },
     "metadata": {},
     "output_type": "display_data"
    },
    {
     "name": "stdout",
     "output_type": "stream",
     "text": [
      "(20433, 10)"
     ]
    }
   ],
   "source": [
    "# there are 207 rows with missing values.\n",
    "# removes records that have missing values.\n",
    "full_removed = full_removed.dropna()\n",
    "full_removed.shape"
   ]
  },
  {
   "cell_type": "code",
   "execution_count": 9,
   "id": "6b253d59",
   "metadata": {},
   "outputs": [
    {
     "data": {
      "application/vnd.jupyter.widget-view+json": {
       "model_id": "1d69670aa19a44d5844af5256fbb9968",
       "version_major": 2,
       "version_minor": 0
      },
      "text/plain": [
       "VBox()"
      ]
     },
     "metadata": {},
     "output_type": "display_data"
    },
    {
     "data": {
      "application/vnd.jupyter.widget-view+json": {
       "model_id": "",
       "version_major": 2,
       "version_minor": 0
      },
      "text/plain": [
       "FloatProgress(value=0.0, bar_style='info', description='Progress:', layout=Layout(height='25px', width='50%'),…"
      ]
     },
     "metadata": {},
     "output_type": "display_data"
    },
    {
     "name": "stdout",
     "output_type": "stream",
     "text": [
      "          longitude      latitude  housing_median_age   total_rooms  total_bedrooms    population    households  median_income  median_house_value\n",
      "count  20433.000000  20433.000000        20433.000000  20433.000000    20433.000000  20433.000000  20433.000000   20433.000000        20433.000000\n",
      "mean    -119.570689     35.633221           28.633094   2636.504233      537.870553   1424.946949    499.433465       3.871162       206864.413155\n",
      "std        2.003578      2.136348           12.591805   2185.269567      421.385070   1133.208490    382.299226       1.899291       115435.667099\n",
      "min     -124.350000     32.540000            1.000000      2.000000        1.000000      3.000000      1.000000       0.499900        14999.000000\n",
      "25%     -121.800000     33.930000           18.000000   1450.000000      296.000000    787.000000    280.000000       2.563700       119500.000000\n",
      "50%     -118.490000     34.260000           29.000000   2126.000000      435.000000   1166.000000    409.000000       3.536300       179700.000000\n",
      "75%     -118.010000     37.720000           37.000000   3143.000000      647.000000   1722.000000    604.000000       4.743700       264700.000000\n",
      "max     -114.310000     41.950000           52.000000  39320.000000     6445.000000  35682.000000   6082.000000      15.000100       500001.000000"
     ]
    }
   ],
   "source": [
    "# Generate descriptive statistics and clearly interpret the results. \n",
    "#describe numeric features\n",
    "descriptive_stats = full_removed.describe()\n",
    "descriptive_stats"
   ]
  },
  {
   "cell_type": "code",
   "execution_count": 10,
   "id": "6328516c",
   "metadata": {},
   "outputs": [
    {
     "data": {
      "application/vnd.jupyter.widget-view+json": {
       "model_id": "e0b486a0adee4ac9aacc7c9788f2b0bf",
       "version_major": 2,
       "version_minor": 0
      },
      "text/plain": [
       "VBox()"
      ]
     },
     "metadata": {},
     "output_type": "display_data"
    },
    {
     "data": {
      "application/vnd.jupyter.widget-view+json": {
       "model_id": "",
       "version_major": 2,
       "version_minor": 0
      },
      "text/plain": [
       "FloatProgress(value=0.0, bar_style='info', description='Progress:', layout=Layout(height='25px', width='50%'),…"
      ]
     },
     "metadata": {},
     "output_type": "display_data"
    }
   ],
   "source": [
    "# total_rooms the mean is 2635, the min is 2 and max is 39320.\n",
    "# total_bedrooms the mean is 537, the min is 1 and max is 6445. \n",
    "# population the mean is 1425, the min is 3 and max is 35682.\n",
    "# households the mean is 499, the min is 1 and max is 6082.\n",
    "# median_income the mean is 3.87 and the min is 0.49 and the max is 15"
   ]
  },
  {
   "cell_type": "code",
   "execution_count": 11,
   "id": "529aa970",
   "metadata": {},
   "outputs": [
    {
     "data": {
      "application/vnd.jupyter.widget-view+json": {
       "model_id": "6512e46033c647f29534c485bd57579a",
       "version_major": 2,
       "version_minor": 0
      },
      "text/plain": [
       "VBox()"
      ]
     },
     "metadata": {},
     "output_type": "display_data"
    },
    {
     "data": {
      "application/vnd.jupyter.widget-view+json": {
       "model_id": "",
       "version_major": 2,
       "version_minor": 0
      },
      "text/plain": [
       "FloatProgress(value=0.0, bar_style='info', description='Progress:', layout=Layout(height='25px', width='50%'),…"
      ]
     },
     "metadata": {},
     "output_type": "display_data"
    },
    {
     "data": {
      "image/png": "[encoded data removed]",
      "text/plain": [
       "<IPython.core.display.Image object>"
      ]
     },
     "metadata": {},
     "output_type": "display_data"
    }
   ],
   "source": [
    "#clear the canvas\n",
    "plt.clf()\n",
    "# plot histogram for 'longitude' column\n",
    "full_removed['longitude'].hist()\n",
    "%matplot plt"
   ]
  },
  {
   "cell_type": "code",
   "execution_count": 12,
   "id": "1125aab5",
   "metadata": {},
   "outputs": [
    {
     "data": {
      "application/vnd.jupyter.widget-view+json": {
       "model_id": "942486fc09134a4f8b71d6e6606051b2",
       "version_major": 2,
       "version_minor": 0
      },
      "text/plain": [
       "VBox()"
      ]
     },
     "metadata": {},
     "output_type": "display_data"
    },
    {
     "data": {
      "application/vnd.jupyter.widget-view+json": {
       "model_id": "",
       "version_major": 2,
       "version_minor": 0
      },
      "text/plain": [
       "FloatProgress(value=0.0, bar_style='info', description='Progress:', layout=Layout(height='25px', width='50%'),…"
      ]
     },
     "metadata": {},
     "output_type": "display_data"
    }
   ],
   "source": [
    "# the 'longitude' histogram shows two peaks (bimodal) around -122 and -118 which is expected as \n",
    "# they correspond to los angeles and san franscisco"
   ]
  },
  {
   "cell_type": "code",
   "execution_count": 13,
   "id": "8180d274",
   "metadata": {},
   "outputs": [
    {
     "data": {
      "application/vnd.jupyter.widget-view+json": {
       "model_id": "16aa7a4ce04f41d49ed09b3161d5b2b4",
       "version_major": 2,
       "version_minor": 0
      },
      "text/plain": [
       "VBox()"
      ]
     },
     "metadata": {},
     "output_type": "display_data"
    },
    {
     "data": {
      "application/vnd.jupyter.widget-view+json": {
       "model_id": "",
       "version_major": 2,
       "version_minor": 0
      },
      "text/plain": [
       "FloatProgress(value=0.0, bar_style='info', description='Progress:', layout=Layout(height='25px', width='50%'),…"
      ]
     },
     "metadata": {},
     "output_type": "display_data"
    },
    {
     "data": {
      "image/png": "[encoded data removed]",
      "text/plain": [
       "<IPython.core.display.Image object>"
      ]
     },
     "metadata": {},
     "output_type": "display_data"
    }
   ],
   "source": [
    "#clear the canvas\n",
    "plt.clf()\n",
    "# plot histogram for 'latitude' column\n",
    "full_removed['latitude'].hist()\n",
    "%matplot plt"
   ]
  },
  {
   "cell_type": "code",
   "execution_count": 14,
   "id": "2dc738cb",
   "metadata": {},
   "outputs": [
    {
     "data": {
      "application/vnd.jupyter.widget-view+json": {
       "model_id": "f61b5e3a7ece4e5a93954ff50ea34459",
       "version_major": 2,
       "version_minor": 0
      },
      "text/plain": [
       "VBox()"
      ]
     },
     "metadata": {},
     "output_type": "display_data"
    },
    {
     "data": {
      "application/vnd.jupyter.widget-view+json": {
       "model_id": "",
       "version_major": 2,
       "version_minor": 0
      },
      "text/plain": [
       "FloatProgress(value=0.0, bar_style='info', description='Progress:', layout=Layout(height='25px', width='50%'),…"
      ]
     },
     "metadata": {},
     "output_type": "display_data"
    }
   ],
   "source": [
    "# the 'latitude' histogram shows two peaks which is expected as \n",
    "# they correspond to los angeles (34) and san franscisco (38)"
   ]
  },
  {
   "cell_type": "code",
   "execution_count": 15,
   "id": "9f3ca5b5",
   "metadata": {},
   "outputs": [
    {
     "data": {
      "application/vnd.jupyter.widget-view+json": {
       "model_id": "4c8e2cad2c5e47468b4c0879bff9122b",
       "version_major": 2,
       "version_minor": 0
      },
      "text/plain": [
       "VBox()"
      ]
     },
     "metadata": {},
     "output_type": "display_data"
    },
    {
     "data": {
      "application/vnd.jupyter.widget-view+json": {
       "model_id": "",
       "version_major": 2,
       "version_minor": 0
      },
      "text/plain": [
       "FloatProgress(value=0.0, bar_style='info', description='Progress:', layout=Layout(height='25px', width='50%'),…"
      ]
     },
     "metadata": {},
     "output_type": "display_data"
    },
    {
     "data": {
      "image/png": "[encoded data removed]",
      "text/plain": [
       "<IPython.core.display.Image object>"
      ]
     },
     "metadata": {},
     "output_type": "display_data"
    }
   ],
   "source": [
    "#clear the canvas\n",
    "plt.clf()\n",
    "# plot histogram for 'housing_median_age' column\n",
    "full_removed['housing_median_age'].hist()\n",
    "%matplot plt"
   ]
  },
  {
   "cell_type": "code",
   "execution_count": 16,
   "id": "b6658d06",
   "metadata": {},
   "outputs": [
    {
     "data": {
      "application/vnd.jupyter.widget-view+json": {
       "model_id": "c25abd2c177d44248b543807afdc3109",
       "version_major": 2,
       "version_minor": 0
      },
      "text/plain": [
       "VBox()"
      ]
     },
     "metadata": {},
     "output_type": "display_data"
    },
    {
     "data": {
      "application/vnd.jupyter.widget-view+json": {
       "model_id": "",
       "version_major": 2,
       "version_minor": 0
      },
      "text/plain": [
       "FloatProgress(value=0.0, bar_style='info', description='Progress:', layout=Layout(height='25px', width='50%'),…"
      ]
     },
     "metadata": {},
     "output_type": "display_data"
    }
   ],
   "source": [
    "# the 'housing_median_age' peaks at 35 years. the distribution is relatively normal although there are noticable dips\n",
    "# around 35 and 45"
   ]
  },
  {
   "cell_type": "code",
   "execution_count": 17,
   "id": "8cf33661",
   "metadata": {},
   "outputs": [
    {
     "data": {
      "application/vnd.jupyter.widget-view+json": {
       "model_id": "098141a553d34e22b115499354036366",
       "version_major": 2,
       "version_minor": 0
      },
      "text/plain": [
       "VBox()"
      ]
     },
     "metadata": {},
     "output_type": "display_data"
    },
    {
     "data": {
      "application/vnd.jupyter.widget-view+json": {
       "model_id": "",
       "version_major": 2,
       "version_minor": 0
      },
      "text/plain": [
       "FloatProgress(value=0.0, bar_style='info', description='Progress:', layout=Layout(height='25px', width='50%'),…"
      ]
     },
     "metadata": {},
     "output_type": "display_data"
    },
    {
     "data": {
      "image/png": "[encoded data removed]",
      "text/plain": [
       "<IPython.core.display.Image object>"
      ]
     },
     "metadata": {},
     "output_type": "display_data"
    }
   ],
   "source": [
    "#clear the canvas\n",
    "plt.clf()\n",
    "# plot histogram for 'total_rooms' column\n",
    "full_removed['total_rooms'].hist()\n",
    "%matplot plt"
   ]
  },
  {
   "cell_type": "code",
   "execution_count": 18,
   "id": "c3c9844e",
   "metadata": {},
   "outputs": [
    {
     "data": {
      "application/vnd.jupyter.widget-view+json": {
       "model_id": "e314e54dc35942d38a90e5fa55241a0f",
       "version_major": 2,
       "version_minor": 0
      },
      "text/plain": [
       "VBox()"
      ]
     },
     "metadata": {},
     "output_type": "display_data"
    },
    {
     "data": {
      "application/vnd.jupyter.widget-view+json": {
       "model_id": "",
       "version_major": 2,
       "version_minor": 0
      },
      "text/plain": [
       "FloatProgress(value=0.0, bar_style='info', description='Progress:', layout=Layout(height='25px', width='50%'),…"
      ]
     },
     "metadata": {},
     "output_type": "display_data"
    }
   ],
   "source": [
    "# 'total_rooms' mostly concentrates around 3000\n",
    "#  strongly skewed to the right. the mean is 2635 whereas the min is 2 and max is 39320. there are outliers."
   ]
  },
  {
   "cell_type": "code",
   "execution_count": 19,
   "id": "a2f14bb5",
   "metadata": {},
   "outputs": [
    {
     "data": {
      "application/vnd.jupyter.widget-view+json": {
       "model_id": "0aa439e9682a4127954b6442d1d8095b",
       "version_major": 2,
       "version_minor": 0
      },
      "text/plain": [
       "VBox()"
      ]
     },
     "metadata": {},
     "output_type": "display_data"
    },
    {
     "data": {
      "application/vnd.jupyter.widget-view+json": {
       "model_id": "",
       "version_major": 2,
       "version_minor": 0
      },
      "text/plain": [
       "FloatProgress(value=0.0, bar_style='info', description='Progress:', layout=Layout(height='25px', width='50%'),…"
      ]
     },
     "metadata": {},
     "output_type": "display_data"
    },
    {
     "data": {
      "image/png": "[encoded data removed]",
      "text/plain": [
       "<IPython.core.display.Image object>"
      ]
     },
     "metadata": {},
     "output_type": "display_data"
    }
   ],
   "source": [
    "#clear the canvas\n",
    "plt.clf()\n",
    "# plot histogram for 'total_bedrooms' column\n",
    "full_removed['total_bedrooms'].hist()\n",
    "%matplot plt"
   ]
  },
  {
   "cell_type": "code",
   "execution_count": 20,
   "id": "702b65bf",
   "metadata": {},
   "outputs": [
    {
     "data": {
      "application/vnd.jupyter.widget-view+json": {
       "model_id": "5b5ece272b014c25b58ef8a596284d4b",
       "version_major": 2,
       "version_minor": 0
      },
      "text/plain": [
       "VBox()"
      ]
     },
     "metadata": {},
     "output_type": "display_data"
    },
    {
     "data": {
      "application/vnd.jupyter.widget-view+json": {
       "model_id": "",
       "version_major": 2,
       "version_minor": 0
      },
      "text/plain": [
       "FloatProgress(value=0.0, bar_style='info', description='Progress:', layout=Layout(height='25px', width='50%'),…"
      ]
     },
     "metadata": {},
     "output_type": "display_data"
    }
   ],
   "source": [
    "# total_bedrooms is skew to right. the mean is 537 whereas the min is 1 and max is 6445. there are outliers."
   ]
  },
  {
   "cell_type": "code",
   "execution_count": 21,
   "id": "0d3e0149",
   "metadata": {},
   "outputs": [
    {
     "data": {
      "application/vnd.jupyter.widget-view+json": {
       "model_id": "4a14bf418790476184b431c747b243c7",
       "version_major": 2,
       "version_minor": 0
      },
      "text/plain": [
       "VBox()"
      ]
     },
     "metadata": {},
     "output_type": "display_data"
    },
    {
     "data": {
      "application/vnd.jupyter.widget-view+json": {
       "model_id": "",
       "version_major": 2,
       "version_minor": 0
      },
      "text/plain": [
       "FloatProgress(value=0.0, bar_style='info', description='Progress:', layout=Layout(height='25px', width='50%'),…"
      ]
     },
     "metadata": {},
     "output_type": "display_data"
    },
    {
     "data": {
      "image/png": "[encoded data removed]",
      "text/plain": [
       "<IPython.core.display.Image object>"
      ]
     },
     "metadata": {},
     "output_type": "display_data"
    }
   ],
   "source": [
    "#clear the canvas\n",
    "plt.clf()\n",
    "# plot histogram for 'population' column\n",
    "full_removed['population'].hist()\n",
    "%matplot plt"
   ]
  },
  {
   "cell_type": "code",
   "execution_count": 22,
   "id": "5408420a",
   "metadata": {},
   "outputs": [
    {
     "data": {
      "application/vnd.jupyter.widget-view+json": {
       "model_id": "a1ca1aa49b03441cabf1de26b7d3d545",
       "version_major": 2,
       "version_minor": 0
      },
      "text/plain": [
       "VBox()"
      ]
     },
     "metadata": {},
     "output_type": "display_data"
    },
    {
     "data": {
      "application/vnd.jupyter.widget-view+json": {
       "model_id": "",
       "version_major": 2,
       "version_minor": 0
      },
      "text/plain": [
       "FloatProgress(value=0.0, bar_style='info', description='Progress:', layout=Layout(height='25px', width='50%'),…"
      ]
     },
     "metadata": {},
     "output_type": "display_data"
    }
   ],
   "source": [
    "# population is skewed to the right. the mean is 1425 whereas the min is 3 and max is 35682. there are outliers.\n"
   ]
  },
  {
   "cell_type": "code",
   "execution_count": 23,
   "id": "f4e2445a",
   "metadata": {},
   "outputs": [
    {
     "data": {
      "application/vnd.jupyter.widget-view+json": {
       "model_id": "44305a0044d24de8a61d5a61c02fabe3",
       "version_major": 2,
       "version_minor": 0
      },
      "text/plain": [
       "VBox()"
      ]
     },
     "metadata": {},
     "output_type": "display_data"
    },
    {
     "data": {
      "application/vnd.jupyter.widget-view+json": {
       "model_id": "",
       "version_major": 2,
       "version_minor": 0
      },
      "text/plain": [
       "FloatProgress(value=0.0, bar_style='info', description='Progress:', layout=Layout(height='25px', width='50%'),…"
      ]
     },
     "metadata": {},
     "output_type": "display_data"
    },
    {
     "data": {
      "image/png": "[encoded data removed]",
      "text/plain": [
       "<IPython.core.display.Image object>"
      ]
     },
     "metadata": {},
     "output_type": "display_data"
    }
   ],
   "source": [
    "#clear the canvas\n",
    "plt.clf()\n",
    "# plot histogram for 'households' column\n",
    "full_removed['households'].hist()\n",
    "%matplot plt"
   ]
  },
  {
   "cell_type": "code",
   "execution_count": 24,
   "id": "b36fb2c4",
   "metadata": {},
   "outputs": [
    {
     "data": {
      "application/vnd.jupyter.widget-view+json": {
       "model_id": "49614e4a82ad4a7d8daf094554303f86",
       "version_major": 2,
       "version_minor": 0
      },
      "text/plain": [
       "VBox()"
      ]
     },
     "metadata": {},
     "output_type": "display_data"
    },
    {
     "data": {
      "application/vnd.jupyter.widget-view+json": {
       "model_id": "",
       "version_major": 2,
       "version_minor": 0
      },
      "text/plain": [
       "FloatProgress(value=0.0, bar_style='info', description='Progress:', layout=Layout(height='25px', width='50%'),…"
      ]
     },
     "metadata": {},
     "output_type": "display_data"
    }
   ],
   "source": [
    "# households is skewed to the right. the mean is 499 whereas the min is 1 and max is 6082. there are outliers."
   ]
  },
  {
   "cell_type": "code",
   "execution_count": 25,
   "id": "91196eba",
   "metadata": {},
   "outputs": [
    {
     "data": {
      "application/vnd.jupyter.widget-view+json": {
       "model_id": "c5ffaa72b0104807a3ccea5aeb5fe9c1",
       "version_major": 2,
       "version_minor": 0
      },
      "text/plain": [
       "VBox()"
      ]
     },
     "metadata": {},
     "output_type": "display_data"
    },
    {
     "data": {
      "application/vnd.jupyter.widget-view+json": {
       "model_id": "",
       "version_major": 2,
       "version_minor": 0
      },
      "text/plain": [
       "FloatProgress(value=0.0, bar_style='info', description='Progress:', layout=Layout(height='25px', width='50%'),…"
      ]
     },
     "metadata": {},
     "output_type": "display_data"
    },
    {
     "data": {
      "image/png": "[encoded data removed]",
      "text/plain": [
       "<IPython.core.display.Image object>"
      ]
     },
     "metadata": {},
     "output_type": "display_data"
    }
   ],
   "source": [
    "#clear the canvas\n",
    "plt.clf()\n",
    "# plot histogram for 'median_income' column\n",
    "full_removed['median_income'].hist()\n",
    "%matplot plt"
   ]
  },
  {
   "cell_type": "code",
   "execution_count": 26,
   "id": "ceaf12ff",
   "metadata": {},
   "outputs": [
    {
     "data": {
      "application/vnd.jupyter.widget-view+json": {
       "model_id": "1d8b54da01a24cdab84188f94b986e18",
       "version_major": 2,
       "version_minor": 0
      },
      "text/plain": [
       "VBox()"
      ]
     },
     "metadata": {},
     "output_type": "display_data"
    },
    {
     "data": {
      "application/vnd.jupyter.widget-view+json": {
       "model_id": "",
       "version_major": 2,
       "version_minor": 0
      },
      "text/plain": [
       "FloatProgress(value=0.0, bar_style='info', description='Progress:', layout=Layout(height='25px', width='50%'),…"
      ]
     },
     "metadata": {},
     "output_type": "display_data"
    }
   ],
   "source": [
    "# median_income is normal but shewed to the right. the mean is 3.87 and the min is 0.49 and the max is 15."
   ]
  },
  {
   "cell_type": "code",
   "execution_count": 27,
   "id": "cf2482fa",
   "metadata": {},
   "outputs": [
    {
     "data": {
      "application/vnd.jupyter.widget-view+json": {
       "model_id": "3ce6f760988d4037b2c77fa6768d1747",
       "version_major": 2,
       "version_minor": 0
      },
      "text/plain": [
       "VBox()"
      ]
     },
     "metadata": {},
     "output_type": "display_data"
    },
    {
     "data": {
      "application/vnd.jupyter.widget-view+json": {
       "model_id": "",
       "version_major": 2,
       "version_minor": 0
      },
      "text/plain": [
       "FloatProgress(value=0.0, bar_style='info', description='Progress:', layout=Layout(height='25px', width='50%'),…"
      ]
     },
     "metadata": {},
     "output_type": "display_data"
    },
    {
     "data": {
      "image/png": "[encoded data removed]",
      "text/plain": [
       "<IPython.core.display.Image object>"
      ]
     },
     "metadata": {},
     "output_type": "display_data"
    }
   ],
   "source": [
    "#clear the canvas\n",
    "plt.clf()\n",
    "# plot histogram for 'median_house_value' column\n",
    "full_removed['median_house_value'].hist()\n",
    "%matplot plt"
   ]
  },
  {
   "cell_type": "code",
   "execution_count": 28,
   "id": "6466190d",
   "metadata": {},
   "outputs": [
    {
     "data": {
      "application/vnd.jupyter.widget-view+json": {
       "model_id": "60611c5128554207906118a0da3ec981",
       "version_major": 2,
       "version_minor": 0
      },
      "text/plain": [
       "VBox()"
      ]
     },
     "metadata": {},
     "output_type": "display_data"
    },
    {
     "data": {
      "application/vnd.jupyter.widget-view+json": {
       "model_id": "",
       "version_major": 2,
       "version_minor": 0
      },
      "text/plain": [
       "FloatProgress(value=0.0, bar_style='info', description='Progress:', layout=Layout(height='25px', width='50%'),…"
      ]
     },
     "metadata": {},
     "output_type": "display_data"
    }
   ],
   "source": [
    "# median_house_value is normal except the small peak in the far right "
   ]
  },
  {
   "cell_type": "code",
   "execution_count": 29,
   "id": "bf669a56",
   "metadata": {},
   "outputs": [
    {
     "data": {
      "application/vnd.jupyter.widget-view+json": {
       "model_id": "f057c76b30924782a413c34da70bb31d",
       "version_major": 2,
       "version_minor": 0
      },
      "text/plain": [
       "VBox()"
      ]
     },
     "metadata": {},
     "output_type": "display_data"
    },
    {
     "data": {
      "application/vnd.jupyter.widget-view+json": {
       "model_id": "",
       "version_major": 2,
       "version_minor": 0
      },
      "text/plain": [
       "FloatProgress(value=0.0, bar_style='info', description='Progress:', layout=Layout(height='25px', width='50%'),…"
      ]
     },
     "metadata": {},
     "output_type": "display_data"
    },
    {
     "data": {
      "image/png": "[encoded data removed]",
      "text/plain": [
       "<IPython.core.display.Image object>"
      ]
     },
     "metadata": {},
     "output_type": "display_data"
    }
   ],
   "source": [
    "#clear the canvas\n",
    "plt.clf()\n",
    "# plot bar chart for 'ocean_proximity' column\n",
    "full_removed['ocean_proximity'].value_counts().plot(kind='bar')\n",
    "%matplot plt"
   ]
  },
  {
   "cell_type": "code",
   "execution_count": 30,
   "id": "d7d265fb",
   "metadata": {},
   "outputs": [
    {
     "data": {
      "application/vnd.jupyter.widget-view+json": {
       "model_id": "9dfe12cf843941abb8798c5cb1147a70",
       "version_major": 2,
       "version_minor": 0
      },
      "text/plain": [
       "VBox()"
      ]
     },
     "metadata": {},
     "output_type": "display_data"
    },
    {
     "data": {
      "application/vnd.jupyter.widget-view+json": {
       "model_id": "",
       "version_major": 2,
       "version_minor": 0
      },
      "text/plain": [
       "FloatProgress(value=0.0, bar_style='info', description='Progress:', layout=Layout(height='25px', width='50%'),…"
      ]
     },
     "metadata": {},
     "output_type": "display_data"
    },
    {
     "data": {
      "image/png": "[encoded data removed]",
      "text/plain": [
       "<IPython.core.display.Image object>"
      ]
     },
     "metadata": {},
     "output_type": "display_data"
    }
   ],
   "source": [
    "# majority of districts are within 1 hour from the ocean and inland.\n",
    "\n",
    "#clear the canvas\n",
    "plt.clf()\n",
    "# draw a scatter plot for 'total_rooms' vs 'total_bedrooms' as they are likely related to each other\n",
    "full_removed.plot.scatter(x='total_rooms', y='total_bedrooms')\n",
    "%matplot plt"
   ]
  },
  {
   "cell_type": "code",
   "execution_count": 31,
   "id": "29a205ad",
   "metadata": {},
   "outputs": [
    {
     "data": {
      "application/vnd.jupyter.widget-view+json": {
       "model_id": "3829502d3e8b4aa9bc657837a635d312",
       "version_major": 2,
       "version_minor": 0
      },
      "text/plain": [
       "VBox()"
      ]
     },
     "metadata": {},
     "output_type": "display_data"
    },
    {
     "data": {
      "application/vnd.jupyter.widget-view+json": {
       "model_id": "",
       "version_major": 2,
       "version_minor": 0
      },
      "text/plain": [
       "FloatProgress(value=0.0, bar_style='info', description='Progress:', layout=Layout(height='25px', width='50%'),…"
      ]
     },
     "metadata": {},
     "output_type": "display_data"
    },
    {
     "data": {
      "image/png": "[encoded data removed]",
      "text/plain": [
       "<IPython.core.display.Image object>"
      ]
     },
     "metadata": {},
     "output_type": "display_data"
    }
   ],
   "source": [
    "# there seems to be a correlation between 'total_rooms' and 'total_bedrooms' \n",
    "\n",
    "#clear the canvas\n",
    "plt.clf()\n",
    "# draw a scatter plot for 'population' vs'households' as they are likely related to each other\n",
    "full_removed.plot.scatter(x='population', y='households')\n",
    "%matplot plt"
   ]
  },
  {
   "cell_type": "code",
   "execution_count": 32,
   "id": "32420238",
   "metadata": {
    "scrolled": true
   },
   "outputs": [
    {
     "data": {
      "application/vnd.jupyter.widget-view+json": {
       "model_id": "22fb805563c34bb691894bf32beaf075",
       "version_major": 2,
       "version_minor": 0
      },
      "text/plain": [
       "VBox()"
      ]
     },
     "metadata": {},
     "output_type": "display_data"
    },
    {
     "data": {
      "application/vnd.jupyter.widget-view+json": {
       "model_id": "",
       "version_major": 2,
       "version_minor": 0
      },
      "text/plain": [
       "FloatProgress(value=0.0, bar_style='info', description='Progress:', layout=Layout(height='25px', width='50%'),…"
      ]
     },
     "metadata": {},
     "output_type": "display_data"
    },
    {
     "data": {
      "image/png": "[encoded data removed]",
      "text/plain": [
       "<IPython.core.display.Image object>"
      ]
     },
     "metadata": {},
     "output_type": "display_data"
    }
   ],
   "source": [
    "# there seems to be a correlation between 'population' and'households' \n",
    "\n",
    "#clear the canvas\n",
    "plt.clf()\n",
    "# draw a scatter plot for 'median_income' vs 'median_house_value' as they are very likely related to each other\n",
    "full_removed.plot.scatter(x='median_income', y='median_house_value')\n",
    "%matplot plt"
   ]
  },
  {
   "cell_type": "code",
   "execution_count": 33,
   "id": "3f25c644",
   "metadata": {},
   "outputs": [
    {
     "data": {
      "application/vnd.jupyter.widget-view+json": {
       "model_id": "e8fbac5f90db417ba4ba44f055464978",
       "version_major": 2,
       "version_minor": 0
      },
      "text/plain": [
       "VBox()"
      ]
     },
     "metadata": {},
     "output_type": "display_data"
    },
    {
     "data": {
      "application/vnd.jupyter.widget-view+json": {
       "model_id": "",
       "version_major": 2,
       "version_minor": 0
      },
      "text/plain": [
       "FloatProgress(value=0.0, bar_style='info', description='Progress:', layout=Layout(height='25px', width='50%'),…"
      ]
     },
     "metadata": {},
     "output_type": "display_data"
    }
   ],
   "source": [
    "# it seems that 'median_income' and 'median_house_value' are somewhat correlated. \n",
    "# also 'median_house_value' seems to be capped at 500,000"
   ]
  },
  {
   "cell_type": "code",
   "execution_count": 34,
   "id": "68b6b061",
   "metadata": {},
   "outputs": [
    {
     "data": {
      "application/vnd.jupyter.widget-view+json": {
       "model_id": "37bdfd62aa8f4c9f854fdd429da0cdec",
       "version_major": 2,
       "version_minor": 0
      },
      "text/plain": [
       "VBox()"
      ]
     },
     "metadata": {},
     "output_type": "display_data"
    },
    {
     "data": {
      "application/vnd.jupyter.widget-view+json": {
       "model_id": "",
       "version_major": 2,
       "version_minor": 0
      },
      "text/plain": [
       "FloatProgress(value=0.0, bar_style='info', description='Progress:', layout=Layout(height='25px', width='50%'),…"
      ]
     },
     "metadata": {},
     "output_type": "display_data"
    },
    {
     "data": {
      "image/png": "[encoded data removed]",
      "text/plain": [
       "<IPython.core.display.Image object>"
      ]
     },
     "metadata": {},
     "output_type": "display_data"
    }
   ],
   "source": [
    "#clear the canvas\n",
    "plt.clf()\n",
    "# draw a scatter plot for 'population' vs 'median_house_value' \n",
    "full_removed.plot.scatter(x='population', y='median_house_value')\n",
    "%matplot plt"
   ]
  },
  {
   "cell_type": "code",
   "execution_count": 35,
   "id": "b099e4fa",
   "metadata": {},
   "outputs": [
    {
     "data": {
      "application/vnd.jupyter.widget-view+json": {
       "model_id": "a127347f35b64f76986cafe0a1d984df",
       "version_major": 2,
       "version_minor": 0
      },
      "text/plain": [
       "VBox()"
      ]
     },
     "metadata": {},
     "output_type": "display_data"
    },
    {
     "data": {
      "application/vnd.jupyter.widget-view+json": {
       "model_id": "",
       "version_major": 2,
       "version_minor": 0
      },
      "text/plain": [
       "FloatProgress(value=0.0, bar_style='info', description='Progress:', layout=Layout(height='25px', width='50%'),…"
      ]
     },
     "metadata": {},
     "output_type": "display_data"
    },
    {
     "data": {
      "image/png": "[encoded data removed]",
      "text/plain": [
       "<IPython.core.display.Image object>"
      ]
     },
     "metadata": {},
     "output_type": "display_data"
    }
   ],
   "source": [
    "# it seems that population and median_house_value are not correlated\n",
    "\n",
    "#clear the canvas\n",
    "plt.clf()\n",
    "# draw a scatter plot for 'total_rooms' vs 'population' as they likely are related to each other\n",
    "full_removed.plot.scatter(x='total_rooms', y='population')\n",
    "%matplot plt"
   ]
  },
  {
   "cell_type": "code",
   "execution_count": 36,
   "id": "3d040546",
   "metadata": {},
   "outputs": [
    {
     "data": {
      "application/vnd.jupyter.widget-view+json": {
       "model_id": "45e49accbf2c4fc7ac5cc77c2016a8b4",
       "version_major": 2,
       "version_minor": 0
      },
      "text/plain": [
       "VBox()"
      ]
     },
     "metadata": {},
     "output_type": "display_data"
    },
    {
     "data": {
      "application/vnd.jupyter.widget-view+json": {
       "model_id": "",
       "version_major": 2,
       "version_minor": 0
      },
      "text/plain": [
       "FloatProgress(value=0.0, bar_style='info', description='Progress:', layout=Layout(height='25px', width='50%'),…"
      ]
     },
     "metadata": {},
     "output_type": "display_data"
    },
    {
     "data": {
      "image/png": "[encoded data removed]",
      "text/plain": [
       "<IPython.core.display.Image object>"
      ]
     },
     "metadata": {},
     "output_type": "display_data"
    }
   ],
   "source": [
    "# it appears that total_rooms and population are positively correlated\n",
    "\n",
    "#clear the canvas\n",
    "plt.clf()\n",
    "# draw a scatter plot for 'latitude' vs 'median_house_value'\n",
    "full_removed.plot.scatter(x='latitude', y='median_house_value')\n",
    "%matplot plt"
   ]
  },
  {
   "cell_type": "code",
   "execution_count": 37,
   "id": "fcaf5fb2",
   "metadata": {},
   "outputs": [
    {
     "data": {
      "application/vnd.jupyter.widget-view+json": {
       "model_id": "0214ad576f0448f1b5e8378f6eb1d061",
       "version_major": 2,
       "version_minor": 0
      },
      "text/plain": [
       "VBox()"
      ]
     },
     "metadata": {},
     "output_type": "display_data"
    },
    {
     "data": {
      "application/vnd.jupyter.widget-view+json": {
       "model_id": "",
       "version_major": 2,
       "version_minor": 0
      },
      "text/plain": [
       "FloatProgress(value=0.0, bar_style='info', description='Progress:', layout=Layout(height='25px', width='50%'),…"
      ]
     },
     "metadata": {},
     "output_type": "display_data"
    },
    {
     "data": {
      "image/png": "[encoded data removed]",
      "text/plain": [
       "<IPython.core.display.Image object>"
      ]
     },
     "metadata": {},
     "output_type": "display_data"
    }
   ],
   "source": [
    "# it seems that 'latitude' and 'median_house_value' are not correlated \n",
    "\n",
    "#clear the canvas\n",
    "plt.clf()\n",
    "# draw a scatter plot for 'longitude' vs 'median_house_value' \n",
    "full_removed.plot.scatter(x='longitude', y='median_house_value')\n",
    "%matplot plt"
   ]
  },
  {
   "cell_type": "code",
   "execution_count": 38,
   "id": "fdd35a32",
   "metadata": {},
   "outputs": [
    {
     "data": {
      "application/vnd.jupyter.widget-view+json": {
       "model_id": "0c581215ccad4d40b5c5aa4e80e0b7b6",
       "version_major": 2,
       "version_minor": 0
      },
      "text/plain": [
       "VBox()"
      ]
     },
     "metadata": {},
     "output_type": "display_data"
    },
    {
     "data": {
      "application/vnd.jupyter.widget-view+json": {
       "model_id": "",
       "version_major": 2,
       "version_minor": 0
      },
      "text/plain": [
       "FloatProgress(value=0.0, bar_style='info', description='Progress:', layout=Layout(height='25px', width='50%'),…"
      ]
     },
     "metadata": {},
     "output_type": "display_data"
    }
   ],
   "source": [
    "# it seeams that 'longitude' and 'median_house_value' are not correlated "
   ]
  },
  {
   "cell_type": "code",
   "execution_count": 6,
   "id": "b9566ddb",
   "metadata": {},
   "outputs": [
    {
     "data": {
      "application/vnd.jupyter.widget-view+json": {
       "model_id": "2955680f60e84096a0ec7d94de046f27",
       "version_major": 2,
       "version_minor": 0
      },
      "text/plain": [
       "VBox()"
      ]
     },
     "metadata": {},
     "output_type": "display_data"
    },
    {
     "data": {
      "application/vnd.jupyter.widget-view+json": {
       "model_id": "",
       "version_major": 2,
       "version_minor": 0
      },
      "text/plain": [
       "FloatProgress(value=0.0, bar_style='info', description='Progress:', layout=Layout(height='25px', width='50%'),…"
      ]
     },
     "metadata": {},
     "output_type": "display_data"
    },
    {
     "name": "stdout",
     "output_type": "stream",
     "text": [
      "0.018205843488474528\n",
      "0.004984796371068242\n",
      "0.0038074244777315767\n",
      "0.00045260246416897157\n",
      "0.016502314348963574"
     ]
    }
   ],
   "source": [
    "# remove outliears\n",
    "\n",
    "no_outliers = full_removed\n",
    "\n",
    "# for the columns\n",
    "#          longitude      latitude  housing_median_age   total_rooms  total_bedrooms    population    households  median_income  median_house_value\n",
    "#mean    -119.569704     35.631861           28.639486   2635.763081      537.870553   1425.476744    499.539680       3.870671       206855.816909\n",
    "#std        2.003532      2.135952           12.585558   2181.615252      421.385070   1132.462122    382.329753       1.899822       115395.615874\n",
    "#min     -124.350000     32.540000            1.000000      2.000000        1.000000      3.000000      1.000000       0.499900        14999.000000\n",
    "#max     -114.310000     41.950000           52.000000  39320.000000     6445.000000  35682.000000   6082.000000      15.000100       500001.000000\n",
    "# we will remove outliers that are three std from the mean for \n",
    "# housing_median_age   total_rooms  total_bedrooms    population    households  median_income  median_house_value\n",
    "#\n",
    "# for longitude\n",
    "# -119 + 3*2 = -113\n",
    "# -119 - 3*2 = -125\n",
    "# there is no logitude falls outside the above values\n",
    "#\n",
    "# for latitude\n",
    "# 35.6 + 3*2.13 = 41.23\n",
    "# 35.6 - 3*2.13 = 29.21\n",
    "# there is no latitude falls outside the above values\n",
    "#\n",
    "# for housing_median_age\n",
    "# 28 + 3*12 = 65\n",
    "# 28 -3*13 = -8\n",
    "# there is no housing_median_age falls outside the above values \n",
    "#\n",
    "# for total_rooms mean = 2635, std = 2181: \n",
    "# 2635 + 3*2181 = 9,178\n",
    "# 2635 - 3*2181 = -3,908 \n",
    "# record the original number of rows\n",
    "rows = no_outliers.shape[0]\n",
    "no_outliers = no_outliers[no_outliers.total_rooms < 9178]\n",
    "# print the percentage of records removed\n",
    "print((rows-no_outliers.shape[0])/rows)\n",
    "\n",
    "# for total_bedrooms mean = 537, std = 421 \n",
    "# 537 + 3*421 = 1800\n",
    "# 537 - 3*421 = -726\n",
    "# record the original number of rows\n",
    "rows = no_outliers.shape[0]\n",
    "no_outliers = no_outliers[no_outliers.total_bedrooms < 1800]\n",
    "# print the percentage of records removed\n",
    "print((rows-no_outliers.shape[0])/rows)\n",
    "\n",
    "# for population mean = 1425, std = 1132\n",
    "# 1425 + 3*1132 = 4,821\n",
    "# 1425 - 3*1132 = -1,971\n",
    "rows = no_outliers.shape[0]\n",
    "no_outliers = no_outliers[no_outliers.population < 4821]\n",
    "# print the percentage of records removed\n",
    "print((rows-no_outliers.shape[0])/rows)\n",
    "\n",
    "# for households mean = 499, std = 382\n",
    "# 499 + 3*382 = 1,645\n",
    "# 499 - 3*382 = -647\n",
    "rows = no_outliers.shape[0]\n",
    "no_outliers = no_outliers[no_outliers.households < 1645]\n",
    "# print the percentage of records removed\n",
    "print((rows-no_outliers.shape[0])/rows)\n",
    "\n",
    "# for median_income mean = 3.87, std = 1.90\n",
    "# 3.87 + 3*1.90 = 9.57\n",
    "# 3.87 - 3*1.90 = -1.83\n",
    "rows = no_outliers.shape[0]\n",
    "no_outliers = no_outliers[no_outliers.median_income < 9.57]\n",
    "# print the percentage of records removed\n",
    "print((rows-no_outliers.shape[0])/rows)\n",
    "\n"
   ]
  },
  {
   "cell_type": "code",
   "execution_count": 40,
   "id": "a5b7e295",
   "metadata": {
    "scrolled": true
   },
   "outputs": [
    {
     "data": {
      "application/vnd.jupyter.widget-view+json": {
       "model_id": "6d98c416301e432e988ea97fe25b7bad",
       "version_major": 2,
       "version_minor": 0
      },
      "text/plain": [
       "VBox()"
      ]
     },
     "metadata": {},
     "output_type": "display_data"
    },
    {
     "data": {
      "application/vnd.jupyter.widget-view+json": {
       "model_id": "",
       "version_major": 2,
       "version_minor": 0
      },
      "text/plain": [
       "FloatProgress(value=0.0, bar_style='info', description='Progress:', layout=Layout(height='25px', width='50%'),…"
      ]
     },
     "metadata": {},
     "output_type": "display_data"
    },
    {
     "name": "stdout",
     "output_type": "stream",
     "text": [
      "          longitude      latitude  housing_median_age   total_rooms  total_bedrooms    population    households  median_income  median_house_value\n",
      "count  19548.000000  19548.000000        19548.000000  19548.000000    19548.000000  19548.000000  19548.000000   19548.000000        19548.000000\n",
      "mean    -119.586044     35.652919           29.015449   2390.446900      493.818396   1310.738694    460.262533       3.725705       201838.825200\n",
      "std        2.002868      2.144897           12.423071   1433.078162      290.955924    771.470862    267.286596       1.602118       110689.617739\n",
      "min     -124.350000     32.540000            1.000000      2.000000        2.000000      3.000000      2.000000       0.499900        14999.000000\n",
      "25%     -121.800000     33.930000           19.000000   1431.000000      294.000000    782.000000    278.000000       2.540200       117700.000000\n",
      "50%     -118.510000     34.270000           29.000000   2082.000000      428.000000   1151.000000    403.000000       3.494300       177100.000000\n",
      "75%     -118.020000     37.730000           37.000000   3021.000000      625.000000   1669.000000    584.000000       4.648400       258300.000000\n",
      "max     -114.310000     41.950000           52.000000   9176.000000     1797.000000   4818.000000   1644.000000       9.556100       500001.000000"
     ]
    }
   ],
   "source": [
    "# as one can see in each step that less than 2 percent rows are removed.\n",
    "\n",
    "descriptive_stats = no_outliers.describe()\n",
    "descriptive_stats"
   ]
  },
  {
   "cell_type": "code",
   "execution_count": 41,
   "id": "1a4bcdcf",
   "metadata": {},
   "outputs": [
    {
     "data": {
      "application/vnd.jupyter.widget-view+json": {
       "model_id": "e012ba63c07742eaac7f38f0cdc01347",
       "version_major": 2,
       "version_minor": 0
      },
      "text/plain": [
       "VBox()"
      ]
     },
     "metadata": {},
     "output_type": "display_data"
    },
    {
     "data": {
      "application/vnd.jupyter.widget-view+json": {
       "model_id": "",
       "version_major": 2,
       "version_minor": 0
      },
      "text/plain": [
       "FloatProgress(value=0.0, bar_style='info', description='Progress:', layout=Layout(height='25px', width='50%'),…"
      ]
     },
     "metadata": {},
     "output_type": "display_data"
    }
   ],
   "source": [
    "# Before removing outliers std\n",
    "# longitude      latitude  housing_median_age   total_rooms  total_bedrooms    population    households  median_income  median_house_value\n",
    "# 2.003532      2.135952           12.585558   2181.615252      421.385070   1132.462122    382.329753       1.899822       115395.615874\n",
    "# After removing outliers\n",
    "# 2.002868      2.144897           12.423071   1433.078162      290.955924    771.470862    267.286596       1.602118       110689.617739\n",
    "\n",
    "# removing the outliers has a small impact on the sample"
   ]
  },
  {
   "cell_type": "code",
   "execution_count": 42,
   "id": "037a1ad9",
   "metadata": {},
   "outputs": [
    {
     "data": {
      "application/vnd.jupyter.widget-view+json": {
       "model_id": "172d90d7e8df45ccaad00fbff1287ac2",
       "version_major": 2,
       "version_minor": 0
      },
      "text/plain": [
       "VBox()"
      ]
     },
     "metadata": {},
     "output_type": "display_data"
    },
    {
     "data": {
      "application/vnd.jupyter.widget-view+json": {
       "model_id": "",
       "version_major": 2,
       "version_minor": 0
      },
      "text/plain": [
       "FloatProgress(value=0.0, bar_style='info', description='Progress:', layout=Layout(height='25px', width='50%'),…"
      ]
     },
     "metadata": {},
     "output_type": "display_data"
    },
    {
     "data": {
      "image/png": "[encoded data removed]",
      "text/plain": [
       "<IPython.core.display.Image object>"
      ]
     },
     "metadata": {},
     "output_type": "display_data"
    }
   ],
   "source": [
    "# redo the plots\n",
    "#clear the canvas\n",
    "plt.clf()\n",
    "no_outliers['longitude'].hist()\n",
    "%matplot plt"
   ]
  },
  {
   "cell_type": "code",
   "execution_count": 43,
   "id": "4450c9ae",
   "metadata": {},
   "outputs": [
    {
     "data": {
      "application/vnd.jupyter.widget-view+json": {
       "model_id": "f27791f3a6354af0a184cba2ab798b9d",
       "version_major": 2,
       "version_minor": 0
      },
      "text/plain": [
       "VBox()"
      ]
     },
     "metadata": {},
     "output_type": "display_data"
    },
    {
     "data": {
      "application/vnd.jupyter.widget-view+json": {
       "model_id": "",
       "version_major": 2,
       "version_minor": 0
      },
      "text/plain": [
       "FloatProgress(value=0.0, bar_style='info', description='Progress:', layout=Layout(height='25px', width='50%'),…"
      ]
     },
     "metadata": {},
     "output_type": "display_data"
    },
    {
     "data": {
      "image/png": "[encoded data removed]",
      "text/plain": [
       "<IPython.core.display.Image object>"
      ]
     },
     "metadata": {},
     "output_type": "display_data"
    }
   ],
   "source": [
    "#clear the canvas\n",
    "plt.clf()\n",
    "# plot histogram for 'latitude' column\n",
    "no_outliers['latitude'].hist()\n",
    "%matplot plt"
   ]
  },
  {
   "cell_type": "code",
   "execution_count": 44,
   "id": "60aa0f37",
   "metadata": {},
   "outputs": [
    {
     "data": {
      "application/vnd.jupyter.widget-view+json": {
       "model_id": "2a9fe8c4521d4125834b803286dc7901",
       "version_major": 2,
       "version_minor": 0
      },
      "text/plain": [
       "VBox()"
      ]
     },
     "metadata": {},
     "output_type": "display_data"
    },
    {
     "data": {
      "application/vnd.jupyter.widget-view+json": {
       "model_id": "",
       "version_major": 2,
       "version_minor": 0
      },
      "text/plain": [
       "FloatProgress(value=0.0, bar_style='info', description='Progress:', layout=Layout(height='25px', width='50%'),…"
      ]
     },
     "metadata": {},
     "output_type": "display_data"
    },
    {
     "data": {
      "image/png": "[encoded data removed]",
      "text/plain": [
       "<IPython.core.display.Image object>"
      ]
     },
     "metadata": {},
     "output_type": "display_data"
    }
   ],
   "source": [
    "#clear the canvas\n",
    "plt.clf()\n",
    "# plot histogram for 'housing_median_age' column\n",
    "no_outliers['housing_median_age'].hist()\n",
    "%matplot plt"
   ]
  },
  {
   "cell_type": "code",
   "execution_count": 45,
   "id": "65991a07",
   "metadata": {},
   "outputs": [
    {
     "data": {
      "application/vnd.jupyter.widget-view+json": {
       "model_id": "fd02b0705c274600a81b21ac021cf97d",
       "version_major": 2,
       "version_minor": 0
      },
      "text/plain": [
       "VBox()"
      ]
     },
     "metadata": {},
     "output_type": "display_data"
    },
    {
     "data": {
      "application/vnd.jupyter.widget-view+json": {
       "model_id": "",
       "version_major": 2,
       "version_minor": 0
      },
      "text/plain": [
       "FloatProgress(value=0.0, bar_style='info', description='Progress:', layout=Layout(height='25px', width='50%'),…"
      ]
     },
     "metadata": {},
     "output_type": "display_data"
    },
    {
     "data": {
      "image/png": "[encoded data removed]",
      "text/plain": [
       "<IPython.core.display.Image object>"
      ]
     },
     "metadata": {},
     "output_type": "display_data"
    }
   ],
   "source": [
    "#clear the canvas\n",
    "plt.clf()\n",
    "# plot histogram for 'total_rooms' column\n",
    "no_outliers['total_rooms'].hist()\n",
    "%matplot plt"
   ]
  },
  {
   "cell_type": "code",
   "execution_count": 46,
   "id": "48ecb01f",
   "metadata": {},
   "outputs": [
    {
     "data": {
      "application/vnd.jupyter.widget-view+json": {
       "model_id": "0a505d8dda6d48f7b7fa9ffd76bfcaaa",
       "version_major": 2,
       "version_minor": 0
      },
      "text/plain": [
       "VBox()"
      ]
     },
     "metadata": {},
     "output_type": "display_data"
    },
    {
     "data": {
      "application/vnd.jupyter.widget-view+json": {
       "model_id": "",
       "version_major": 2,
       "version_minor": 0
      },
      "text/plain": [
       "FloatProgress(value=0.0, bar_style='info', description='Progress:', layout=Layout(height='25px', width='50%'),…"
      ]
     },
     "metadata": {},
     "output_type": "display_data"
    },
    {
     "data": {
      "image/png": "[encoded data removed]",
      "text/plain": [
       "<IPython.core.display.Image object>"
      ]
     },
     "metadata": {},
     "output_type": "display_data"
    }
   ],
   "source": [
    "#clear the canvas\n",
    "plt.clf()\n",
    "# plot histogram for 'total_bedrooms' column\n",
    "no_outliers['total_bedrooms'].hist()\n",
    "%matplot plt"
   ]
  },
  {
   "cell_type": "code",
   "execution_count": 47,
   "id": "c7a21588",
   "metadata": {},
   "outputs": [
    {
     "data": {
      "application/vnd.jupyter.widget-view+json": {
       "model_id": "c8ce4af5a55c45bd8fcd2f2bb7a77612",
       "version_major": 2,
       "version_minor": 0
      },
      "text/plain": [
       "VBox()"
      ]
     },
     "metadata": {},
     "output_type": "display_data"
    },
    {
     "data": {
      "application/vnd.jupyter.widget-view+json": {
       "model_id": "",
       "version_major": 2,
       "version_minor": 0
      },
      "text/plain": [
       "FloatProgress(value=0.0, bar_style='info', description='Progress:', layout=Layout(height='25px', width='50%'),…"
      ]
     },
     "metadata": {},
     "output_type": "display_data"
    },
    {
     "data": {
      "image/png": "[encoded data removed]",
      "text/plain": [
       "<IPython.core.display.Image object>"
      ]
     },
     "metadata": {},
     "output_type": "display_data"
    }
   ],
   "source": [
    "#clear the canvas\n",
    "plt.clf()\n",
    "# plot histogram for 'population' column\n",
    "no_outliers['population'].hist()\n",
    "%matplot plt"
   ]
  },
  {
   "cell_type": "code",
   "execution_count": 48,
   "id": "9a100aca",
   "metadata": {},
   "outputs": [
    {
     "data": {
      "application/vnd.jupyter.widget-view+json": {
       "model_id": "9f2765cefa774179a19a5ab46b81fddf",
       "version_major": 2,
       "version_minor": 0
      },
      "text/plain": [
       "VBox()"
      ]
     },
     "metadata": {},
     "output_type": "display_data"
    },
    {
     "data": {
      "application/vnd.jupyter.widget-view+json": {
       "model_id": "",
       "version_major": 2,
       "version_minor": 0
      },
      "text/plain": [
       "FloatProgress(value=0.0, bar_style='info', description='Progress:', layout=Layout(height='25px', width='50%'),…"
      ]
     },
     "metadata": {},
     "output_type": "display_data"
    },
    {
     "data": {
      "image/png": "[encoded data removed]",
      "text/plain": [
       "<IPython.core.display.Image object>"
      ]
     },
     "metadata": {},
     "output_type": "display_data"
    }
   ],
   "source": [
    "#clear the canvas\n",
    "plt.clf()\n",
    "# plot histogram for 'households' column\n",
    "no_outliers['households'].hist()\n",
    "%matplot plt"
   ]
  },
  {
   "cell_type": "code",
   "execution_count": 49,
   "id": "cb3ed120",
   "metadata": {},
   "outputs": [
    {
     "data": {
      "application/vnd.jupyter.widget-view+json": {
       "model_id": "8cc8317affdc491a9c4e5287b0ea3e7b",
       "version_major": 2,
       "version_minor": 0
      },
      "text/plain": [
       "VBox()"
      ]
     },
     "metadata": {},
     "output_type": "display_data"
    },
    {
     "data": {
      "application/vnd.jupyter.widget-view+json": {
       "model_id": "",
       "version_major": 2,
       "version_minor": 0
      },
      "text/plain": [
       "FloatProgress(value=0.0, bar_style='info', description='Progress:', layout=Layout(height='25px', width='50%'),…"
      ]
     },
     "metadata": {},
     "output_type": "display_data"
    },
    {
     "data": {
      "image/png": "[encoded data removed]",
      "text/plain": [
       "<IPython.core.display.Image object>"
      ]
     },
     "metadata": {},
     "output_type": "display_data"
    }
   ],
   "source": [
    "#clear the canvas\n",
    "plt.clf()\n",
    "# plot histogram for 'median_income' column\n",
    "no_outliers['median_income'].hist()\n",
    "%matplot plt"
   ]
  },
  {
   "cell_type": "code",
   "execution_count": 50,
   "id": "5b64bf82",
   "metadata": {},
   "outputs": [
    {
     "data": {
      "application/vnd.jupyter.widget-view+json": {
       "model_id": "f21d9fd2e32d4d27845cd3544cec6f0f",
       "version_major": 2,
       "version_minor": 0
      },
      "text/plain": [
       "VBox()"
      ]
     },
     "metadata": {},
     "output_type": "display_data"
    },
    {
     "data": {
      "application/vnd.jupyter.widget-view+json": {
       "model_id": "",
       "version_major": 2,
       "version_minor": 0
      },
      "text/plain": [
       "FloatProgress(value=0.0, bar_style='info', description='Progress:', layout=Layout(height='25px', width='50%'),…"
      ]
     },
     "metadata": {},
     "output_type": "display_data"
    },
    {
     "data": {
      "image/png": "[encoded data removed]",
      "text/plain": [
       "<IPython.core.display.Image object>"
      ]
     },
     "metadata": {},
     "output_type": "display_data"
    }
   ],
   "source": [
    "#clear the canvas\n",
    "plt.clf()\n",
    "# plot bar chart for 'ocean_proximity' column\n",
    "no_outliers['ocean_proximity'].value_counts().plot(kind='bar')\n",
    "%matplot plt"
   ]
  },
  {
   "cell_type": "markdown",
   "id": "28c2061d",
   "metadata": {},
   "source": [
    "# Correlation matrix"
   ]
  },
  {
   "cell_type": "code",
   "execution_count": 51,
   "id": "550c7181",
   "metadata": {},
   "outputs": [
    {
     "data": {
      "application/vnd.jupyter.widget-view+json": {
       "model_id": "10abb52d483b42b18a01addd0fe69520",
       "version_major": 2,
       "version_minor": 0
      },
      "text/plain": [
       "VBox()"
      ]
     },
     "metadata": {},
     "output_type": "display_data"
    },
    {
     "data": {
      "application/vnd.jupyter.widget-view+json": {
       "model_id": "",
       "version_major": 2,
       "version_minor": 0
      },
      "text/plain": [
       "FloatProgress(value=0.0, bar_style='info', description='Progress:', layout=Layout(height='25px', width='50%'),…"
      ]
     },
     "metadata": {},
     "output_type": "display_data"
    },
    {
     "name": "stdout",
     "output_type": "stream",
     "text": [
      "<class 'pyspark.pandas.frame.DataFrame'>\n",
      "Int64Index: 19548 entries, 2655 to 13924\n",
      "Data columns (total 9 columns):\n",
      " #   Column              Non-Null Count  Dtype  \n",
      "---  ------              --------------  -----  \n",
      " 0   longitude           19548 non-null  float64\n",
      " 1   latitude            19548 non-null  float64\n",
      " 2   housing_median_age  19548 non-null  int32  \n",
      " 3   total_rooms         19548 non-null  int32  \n",
      " 4   total_bedrooms      19548 non-null  int32  \n",
      " 5   population          19548 non-null  int32  \n",
      " 6   households          19548 non-null  int32  \n",
      " 7   median_income       19548 non-null  float64\n",
      " 8   median_house_value  19548 non-null  int32  \n",
      "dtypes: float64(3), int32(6)"
     ]
    }
   ],
   "source": [
    "import pyspark.ml.stat as st\n",
    "\n",
    "# first drop the category 'ocean_proximity' column\n",
    "df = no_outliers.drop('ocean_proximity', axis=1)\n",
    "\n",
    "df.info()"
   ]
  },
  {
   "cell_type": "code",
   "execution_count": 52,
   "id": "3a7b15e0",
   "metadata": {
    "scrolled": true
   },
   "outputs": [
    {
     "data": {
      "application/vnd.jupyter.widget-view+json": {
       "model_id": "98213533b53f427a819bae2833d95f75",
       "version_major": 2,
       "version_minor": 0
      },
      "text/plain": [
       "VBox()"
      ]
     },
     "metadata": {},
     "output_type": "display_data"
    },
    {
     "data": {
      "application/vnd.jupyter.widget-view+json": {
       "model_id": "",
       "version_major": 2,
       "version_minor": 0
      },
      "text/plain": [
       "FloatProgress(value=0.0, bar_style='info', description='Progress:', layout=Layout(height='25px', width='50%'),…"
      ]
     },
     "metadata": {},
     "output_type": "display_data"
    },
    {
     "name": "stdout",
     "output_type": "stream",
     "text": [
      "DenseMatrix([[ 1.        , -0.92439281, -0.10003819,  0.0088122 ,  0.04506504,\n",
      "               0.10481335,  0.0357422 , -0.01545294, -0.04521902],\n",
      "             [-0.92439281,  1.        ,  0.00186025, -0.00968841, -0.05533637,\n",
      "              -0.12729853, -0.06705043, -0.08238102, -0.14695742],\n",
      "             [-0.10003819,  0.00186025,  1.        , -0.34705647, -0.28735689,\n",
      "              -0.26156848, -0.26349515, -0.1388871 ,  0.11812729],\n",
      "             [ 0.0088122 , -0.00968841, -0.34705647,  1.        ,  0.90120666,\n",
      "               0.79827537,  0.89196697,  0.25769691,  0.17068007],\n",
      "             [ 0.04506504, -0.05533637, -0.28735689,  0.90120666,  1.        ,\n",
      "               0.84236739,  0.9738068 , -0.01980162,  0.07581181],\n",
      "             [ 0.10481335, -0.12729853, -0.26156848,  0.79827537,  0.84236739,\n",
      "               1.        ,  0.87974703, -0.00734337, -0.03487113],\n",
      "             [ 0.0357422 , -0.06705043, -0.26349515,  0.89196697,  0.9738068 ,\n",
      "               0.87974703,  1.        ,  0.01374518,  0.09455824],\n",
      "             [-0.01545294, -0.08238102, -0.1388871 ,  0.25769691, -0.01980162,\n",
      "              -0.00734337,  0.01374518,  1.        ,  0.65713614],\n",
      "             [-0.04521902, -0.14695742,  0.11812729,  0.17068007,  0.07581181,\n",
      "              -0.03487113,  0.09455824,  0.65713614,  1.        ]])\n",
      "/mnt/yarn/usercache/livy/appcache/application_1715394311875_0001/container_1715394311875_0001_01_000001/pyspark.zip/pyspark/pandas/utils.py:975: PandasAPIOnSparkAdviceWarning: If `index_col` is not specified for `to_spark`, the existing index is lost when converting to Spark DataFrame.\n",
      "  warnings.warn(message, PandasAPIOnSparkAdviceWarning)"
     ]
    }
   ],
   "source": [
    "# create a VectorAssembler to vectorize the dataframe.\n",
    "features_and_label = feat.VectorAssembler(\n",
    "    inputCols=list(df.columns)\n",
    "    , outputCol='features', handleInvalid=\"skip\")\n",
    "\n",
    "\n",
    "\n",
    "corr = st.Correlation.corr(\n",
    "    features_and_label.transform(df.to_spark()), \n",
    "    'features', \n",
    "    'pearson'\n",
    ")\n",
    "\n",
    "print(str(corr.collect()[0][0]))\n"
   ]
  },
  {
   "cell_type": "code",
   "execution_count": 53,
   "id": "f9724977",
   "metadata": {},
   "outputs": [
    {
     "data": {
      "application/vnd.jupyter.widget-view+json": {
       "model_id": "8788f325751e4899b2931abd773d3a32",
       "version_major": 2,
       "version_minor": 0
      },
      "text/plain": [
       "VBox()"
      ]
     },
     "metadata": {},
     "output_type": "display_data"
    },
    {
     "data": {
      "application/vnd.jupyter.widget-view+json": {
       "model_id": "",
       "version_major": 2,
       "version_minor": 0
      },
      "text/plain": [
       "FloatProgress(value=0.0, bar_style='info', description='Progress:', layout=Layout(height='25px', width='50%'),…"
      ]
     },
     "metadata": {},
     "output_type": "display_data"
    }
   ],
   "source": [
    "# the correlation matrix shows the following correlations \n",
    "#                    longitude        latitude  housing_median_age   total_rooms   total_bedrooms      population      households    median_income  median_house_value\n",
    "#longitude                     strong negative                  no            no               no              no              no               no                  no\n",
    "#latitude                                                       no            no               no              no              no               no                  no \n",
    "#housing_median_age                                                 weak negative   weak negative              no              no               no                  no\n",
    "#total_rooms                                                                     strong positive  strong positive strong positive               no                  no    \n",
    "#total_bedrooms                                                                                   strong positive strong positive               no                  no     \n",
    "#population                                                                                                       strong positive               no                  no      \n",
    "#households                                                                                                                                     no                  no            \n",
    "#median_income                                                                                                                                       moderate positive \n",
    "#median_house_value"
   ]
  },
  {
   "cell_type": "markdown",
   "id": "c1a6b71e",
   "metadata": {},
   "source": [
    "# Create Dummies"
   ]
  },
  {
   "cell_type": "code",
   "execution_count": 7,
   "id": "bfff1ba0",
   "metadata": {},
   "outputs": [
    {
     "data": {
      "application/vnd.jupyter.widget-view+json": {
       "model_id": "15729cd07f33452790d883e580816235",
       "version_major": 2,
       "version_minor": 0
      },
      "text/plain": [
       "VBox()"
      ]
     },
     "metadata": {},
     "output_type": "display_data"
    },
    {
     "data": {
      "application/vnd.jupyter.widget-view+json": {
       "model_id": "",
       "version_major": 2,
       "version_minor": 0
      },
      "text/plain": [
       "FloatProgress(value=0.0, bar_style='info', description='Progress:', layout=Layout(height='25px', width='50%'),…"
      ]
     },
     "metadata": {},
     "output_type": "display_data"
    },
    {
     "name": "stdout",
     "output_type": "stream",
     "text": [
      "      longitude  latitude  housing_median_age  total_rooms  total_bedrooms  population  households  median_income  median_house_value  ocean_proximity_INLAND  ocean_proximity_ISLAND  ocean_proximity_NEAR BAY  ocean_proximity_NEAR OCEAN\n",
      "2655    -124.35     40.54                  52         1820             300         806         270         3.0147               94600                       0                       0                         0                           1\n",
      "1851    -124.30     41.80                  19         2672             552        1298         478         1.9797               85800                       0                       0                         0                           1\n",
      "1861    -124.30     41.84                  17         2677             531        1244         456         3.0313              103600                       0                       0                         0                           1\n",
      "2653    -124.26     40.58                  52         2217             394         907         369         2.3571              111400                       0                       0                         0                           1\n",
      "1855    -124.22     41.73                  28         3003             699        1530         653         1.7038               78300                       0                       0                         0                           1"
     ]
    }
   ],
   "source": [
    "# create dummies for the ocean_proximity column. since we are going to do regression, we are dropping\n",
    "# the first dummy column\n",
    "dummies = ps.get_dummies(no_outliers, columns=[\"ocean_proximity\"], drop_first=True)\n",
    "dummies.head()"
   ]
  },
  {
   "cell_type": "markdown",
   "id": "63358ed4",
   "metadata": {},
   "source": [
    "# Linear Regression"
   ]
  },
  {
   "cell_type": "code",
   "execution_count": 55,
   "id": "e3e0c2a2",
   "metadata": {},
   "outputs": [
    {
     "data": {
      "application/vnd.jupyter.widget-view+json": {
       "model_id": "b8c9a15855cb4fceb5efe1bf66e8903a",
       "version_major": 2,
       "version_minor": 0
      },
      "text/plain": [
       "VBox()"
      ]
     },
     "metadata": {},
     "output_type": "display_data"
    },
    {
     "data": {
      "application/vnd.jupyter.widget-view+json": {
       "model_id": "",
       "version_major": 2,
       "version_minor": 0
      },
      "text/plain": [
       "FloatProgress(value=0.0, bar_style='info', description='Progress:', layout=Layout(height='25px', width='50%'),…"
      ]
     },
     "metadata": {},
     "output_type": "display_data"
    }
   ],
   "source": [
    "# create a VectorAssembler to vectorize the dataframe.\n",
    "vectorAssembler = feat.VectorAssembler(\n",
    "    inputCols=[x for x in dummies.columns if x != 'median_house_value']\n",
    "    , outputCol='features', handleInvalid=\"skip\")"
   ]
  },
  {
   "cell_type": "code",
   "execution_count": 56,
   "id": "f0ce6b7f",
   "metadata": {},
   "outputs": [
    {
     "data": {
      "application/vnd.jupyter.widget-view+json": {
       "model_id": "1a0b724b2cf1407bb24c81fea615f470",
       "version_major": 2,
       "version_minor": 0
      },
      "text/plain": [
       "VBox()"
      ]
     },
     "metadata": {},
     "output_type": "display_data"
    },
    {
     "data": {
      "application/vnd.jupyter.widget-view+json": {
       "model_id": "",
       "version_major": 2,
       "version_minor": 0
      },
      "text/plain": [
       "FloatProgress(value=0.0, bar_style='info', description='Progress:', layout=Layout(height='25px', width='50%'),…"
      ]
     },
     "metadata": {},
     "output_type": "display_data"
    }
   ],
   "source": [
    "# create a Linear Regression object to be used to fit the data\n",
    "\n",
    "# setting ElasticNetParam to 1.0 and regParam to 0.01\n",
    "lr_obj = rg.LinearRegression(\n",
    "    labelCol='median_house_value',\n",
    "    maxIter=10\n",
    "    , regParam=0.01\n",
    "    , elasticNetParam=1.00)"
   ]
  },
  {
   "cell_type": "code",
   "execution_count": 57,
   "id": "a8bcc7b4",
   "metadata": {},
   "outputs": [
    {
     "data": {
      "application/vnd.jupyter.widget-view+json": {
       "model_id": "f502bc76b59b4bb8908ea7e4014e7738",
       "version_major": 2,
       "version_minor": 0
      },
      "text/plain": [
       "VBox()"
      ]
     },
     "metadata": {},
     "output_type": "display_data"
    },
    {
     "data": {
      "application/vnd.jupyter.widget-view+json": {
       "model_id": "",
       "version_major": 2,
       "version_minor": 0
      },
      "text/plain": [
       "FloatProgress(value=0.0, bar_style='info', description='Progress:', layout=Layout(height='25px', width='50%'),…"
      ]
     },
     "metadata": {},
     "output_type": "display_data"
    }
   ],
   "source": [
    "# create a pipeline to execute both vectorAssembler and lr_obj\n",
    "pip = Pipeline(stages=[vectorAssembler, lr_obj])"
   ]
  },
  {
   "cell_type": "code",
   "execution_count": 58,
   "id": "f0d9caf9",
   "metadata": {},
   "outputs": [
    {
     "data": {
      "application/vnd.jupyter.widget-view+json": {
       "model_id": "d19e817a775f4e91a5375a286bbbdb3f",
       "version_major": 2,
       "version_minor": 0
      },
      "text/plain": [
       "VBox()"
      ]
     },
     "metadata": {},
     "output_type": "display_data"
    },
    {
     "data": {
      "application/vnd.jupyter.widget-view+json": {
       "model_id": "",
       "version_major": 2,
       "version_minor": 0
      },
      "text/plain": [
       "FloatProgress(value=0.0, bar_style='info', description='Progress:', layout=Layout(height='25px', width='50%'),…"
      ]
     },
     "metadata": {},
     "output_type": "display_data"
    },
    {
     "name": "stdout",
     "output_type": "stream",
     "text": [
      "/mnt/yarn/usercache/livy/appcache/application_1715394311875_0001/container_1715394311875_0001_01_000001/pyspark.zip/pyspark/pandas/utils.py:975: PandasAPIOnSparkAdviceWarning: If `index_col` is not specified for `to_spark`, the existing index is lost when converting to Spark DataFrame.\n",
      "  warnings.warn(message, PandasAPIOnSparkAdviceWarning)"
     ]
    }
   ],
   "source": [
    "# run the pipeline\n",
    "pModel = pip.fit(dummies.to_spark())"
   ]
  },
  {
   "cell_type": "code",
   "execution_count": 59,
   "id": "db6463a7",
   "metadata": {},
   "outputs": [
    {
     "data": {
      "application/vnd.jupyter.widget-view+json": {
       "model_id": "b75aadc19f78452d84017a9206d4c058",
       "version_major": 2,
       "version_minor": 0
      },
      "text/plain": [
       "VBox()"
      ]
     },
     "metadata": {},
     "output_type": "display_data"
    },
    {
     "data": {
      "application/vnd.jupyter.widget-view+json": {
       "model_id": "",
       "version_major": 2,
       "version_minor": 0
      },
      "text/plain": [
       "FloatProgress(value=0.0, bar_style='info', description='Progress:', layout=Layout(height='25px', width='50%'),…"
      ]
     },
     "metadata": {},
     "output_type": "display_data"
    },
    {
     "name": "stdout",
     "output_type": "stream",
     "text": [
      "DenseVector([-9967.7114, -9736.2515, 1190.6429, -1.5985, 106.3792, -60.1267, 91.743, 42527.681, -58890.8228, 144730.7691, -2565.2155, 3890.3599])"
     ]
    }
   ],
   "source": [
    "#get the trained model from the pipeline\n",
    "lr_model = pModel.stages[-1]\n",
    "#examine model coefficients\n",
    "lr_model.coefficients"
   ]
  },
  {
   "cell_type": "code",
   "execution_count": 60,
   "id": "0c9b396a",
   "metadata": {},
   "outputs": [
    {
     "data": {
      "application/vnd.jupyter.widget-view+json": {
       "model_id": "dec24900921c4fd48c79b772de1d2ca5",
       "version_major": 2,
       "version_minor": 0
      },
      "text/plain": [
       "VBox()"
      ]
     },
     "metadata": {},
     "output_type": "display_data"
    },
    {
     "data": {
      "application/vnd.jupyter.widget-view+json": {
       "model_id": "",
       "version_major": 2,
       "version_minor": 0
      },
      "text/plain": [
       "FloatProgress(value=0.0, bar_style='info', description='Progress:', layout=Layout(height='25px', width='50%'),…"
      ]
     },
     "metadata": {},
     "output_type": "display_data"
    },
    {
     "name": "stdout",
     "output_type": "stream",
     "text": [
      "0.6275740155670695 67548.50882470298 49389.76560288677"
     ]
    }
   ],
   "source": [
    "#print model performance metrics\n",
    "summary = lr_model.summary\n",
    "\n",
    "print(\n",
    "    summary.r2\n",
    "    , summary.rootMeanSquaredError\n",
    "    , summary.meanAbsoluteError\n",
    ")"
   ]
  },
  {
   "cell_type": "code",
   "execution_count": 61,
   "id": "aa079434",
   "metadata": {},
   "outputs": [
    {
     "data": {
      "application/vnd.jupyter.widget-view+json": {
       "model_id": "9e75312847e0465eb4fac43597ad3788",
       "version_major": 2,
       "version_minor": 0
      },
      "text/plain": [
       "VBox()"
      ]
     },
     "metadata": {},
     "output_type": "display_data"
    },
    {
     "data": {
      "application/vnd.jupyter.widget-view+json": {
       "model_id": "",
       "version_major": 2,
       "version_minor": 0
      },
      "text/plain": [
       "FloatProgress(value=0.0, bar_style='info', description='Progress:', layout=Layout(height='25px', width='50%'),…"
      ]
     },
     "metadata": {},
     "output_type": "display_data"
    },
    {
     "name": "stdout",
     "output_type": "stream",
     "text": [
      "0.6275740155670694"
     ]
    }
   ],
   "source": [
    "# r2 = 0.63\n",
    "#Evaluating linear Regression model\n",
    "results = (pModel.transform(dummies.to_spark()).select('median_house_value', 'prediction'))\n",
    "\n",
    "evaluator = ev.RegressionEvaluator(labelCol='median_house_value')\n",
    "print(evaluator.evaluate(results, {evaluator.metricName: 'r2'}))"
   ]
  },
  {
   "cell_type": "code",
   "execution_count": 62,
   "id": "db268406",
   "metadata": {
    "scrolled": true
   },
   "outputs": [
    {
     "data": {
      "application/vnd.jupyter.widget-view+json": {
       "model_id": "02fbe2e7b3e540bbb60552af97606ec8",
       "version_major": 2,
       "version_minor": 0
      },
      "text/plain": [
       "VBox()"
      ]
     },
     "metadata": {},
     "output_type": "display_data"
    },
    {
     "data": {
      "application/vnd.jupyter.widget-view+json": {
       "model_id": "",
       "version_major": 2,
       "version_minor": 0
      },
      "text/plain": [
       "FloatProgress(value=0.0, bar_style='info', description='Progress:', layout=Layout(height='25px', width='50%'),…"
      ]
     },
     "metadata": {},
     "output_type": "display_data"
    },
    {
     "name": "stdout",
     "output_type": "stream",
     "text": [
      "   median_house_value     prediction\n",
      "0               94600  214520.947358\n",
      "1               85800  133393.342558\n",
      "2              103600  174331.254304\n",
      "3              111400  197642.989590\n",
      "4               78300  149474.127563"
     ]
    }
   ],
   "source": [
    "#get predictions from the model\n",
    "(\n",
    "    pModel.transform(dummies.to_spark())\n",
    "    .pandas_api()\n",
    "    [['median_house_value', 'prediction']]\n",
    "    .head(5)\n",
    ")"
   ]
  },
  {
   "cell_type": "markdown",
   "id": "1ce85941",
   "metadata": {},
   "source": [
    "# Gradient Boosted Trees Regression"
   ]
  },
  {
   "cell_type": "code",
   "execution_count": 63,
   "id": "f8606fc9",
   "metadata": {},
   "outputs": [
    {
     "data": {
      "application/vnd.jupyter.widget-view+json": {
       "model_id": "9ea333179c1044f997adb1c5cc4551b1",
       "version_major": 2,
       "version_minor": 0
      },
      "text/plain": [
       "VBox()"
      ]
     },
     "metadata": {},
     "output_type": "display_data"
    },
    {
     "data": {
      "application/vnd.jupyter.widget-view+json": {
       "model_id": "",
       "version_major": 2,
       "version_minor": 0
      },
      "text/plain": [
       "FloatProgress(value=0.0, bar_style='info', description='Progress:', layout=Layout(height='25px', width='50%'),…"
      ]
     },
     "metadata": {},
     "output_type": "display_data"
    }
   ],
   "source": [
    "# create a VectorAssembler to vectorize the dataframe.\n",
    "vectorAssembler = feat.VectorAssembler(\n",
    "    inputCols=[x for x in dummies.columns if x != 'median_house_value']\n",
    "    , outputCol='features', handleInvalid=\"skip\")\n",
    "\n",
    "# Gradient Boosted Trees regression\n",
    "\n",
    "gbt_obj = rg.GBTRegressor(\n",
    "    labelCol='median_house_value'\n",
    "    , minInstancesPerNode=10\n",
    "    , minInfoGain=0.1\n",
    ")\n",
    "\n",
    "# create a pipline to execute vectorAssembler and gbt_obj\n",
    "pip = Pipeline(stages=[vectorAssembler, gbt_obj])\n"
   ]
  },
  {
   "cell_type": "code",
   "execution_count": 64,
   "id": "4b4531f7",
   "metadata": {
    "scrolled": true
   },
   "outputs": [
    {
     "data": {
      "application/vnd.jupyter.widget-view+json": {
       "model_id": "784e67b97501457f9bb636662264ec5e",
       "version_major": 2,
       "version_minor": 0
      },
      "text/plain": [
       "VBox()"
      ]
     },
     "metadata": {},
     "output_type": "display_data"
    },
    {
     "data": {
      "application/vnd.jupyter.widget-view+json": {
       "model_id": "",
       "version_major": 2,
       "version_minor": 0
      },
      "text/plain": [
       "FloatProgress(value=0.0, bar_style='info', description='Progress:', layout=Layout(height='25px', width='50%'),…"
      ]
     },
     "metadata": {},
     "output_type": "display_data"
    },
    {
     "name": "stdout",
     "output_type": "stream",
     "text": [
      "/mnt/yarn/usercache/livy/appcache/application_1715394311875_0001/container_1715394311875_0001_01_000001/pyspark.zip/pyspark/pandas/utils.py:975: PandasAPIOnSparkAdviceWarning: If `index_col` is not specified for `to_spark`, the existing index is lost when converting to Spark DataFrame.\n",
      "  warnings.warn(message, PandasAPIOnSparkAdviceWarning)"
     ]
    }
   ],
   "source": [
    "# run the pipeline\n",
    "pModel = pip.fit(dummies.to_spark())\n"
   ]
  },
  {
   "cell_type": "code",
   "execution_count": 65,
   "id": "1135f53f",
   "metadata": {
    "scrolled": true
   },
   "outputs": [
    {
     "data": {
      "application/vnd.jupyter.widget-view+json": {
       "model_id": "7e0ee31200eb49a2aa7a19d4f1eb0db5",
       "version_major": 2,
       "version_minor": 0
      },
      "text/plain": [
       "VBox()"
      ]
     },
     "metadata": {},
     "output_type": "display_data"
    },
    {
     "data": {
      "application/vnd.jupyter.widget-view+json": {
       "model_id": "",
       "version_major": 2,
       "version_minor": 0
      },
      "text/plain": [
       "FloatProgress(value=0.0, bar_style='info', description='Progress:', layout=Layout(height='25px', width='50%'),…"
      ]
     },
     "metadata": {},
     "output_type": "display_data"
    },
    {
     "name": "stdout",
     "output_type": "stream",
     "text": [
      "   median_house_value     prediction\n",
      "0               94600  102221.075309\n",
      "1               85800   98334.823109\n",
      "2              103600  118546.362310\n",
      "3              111400   87536.363664\n",
      "4               78300  118993.480255"
     ]
    }
   ],
   "source": [
    "#get predictions from the model\n",
    "(\n",
    "    pModel.transform(dummies.to_spark())\n",
    "    .pandas_api()\n",
    "    [['median_house_value', 'prediction']]\n",
    "    .head(5)\n",
    ")"
   ]
  },
  {
   "cell_type": "markdown",
   "id": "4f8c1e79",
   "metadata": {},
   "source": [
    "there is improvement over the linear regression"
   ]
  },
  {
   "cell_type": "code",
   "execution_count": 66,
   "id": "05a20528",
   "metadata": {},
   "outputs": [
    {
     "data": {
      "application/vnd.jupyter.widget-view+json": {
       "model_id": "8fa9bd53418c4ea090f93db7b8b61c87",
       "version_major": 2,
       "version_minor": 0
      },
      "text/plain": [
       "VBox()"
      ]
     },
     "metadata": {},
     "output_type": "display_data"
    },
    {
     "data": {
      "application/vnd.jupyter.widget-view+json": {
       "model_id": "",
       "version_major": 2,
       "version_minor": 0
      },
      "text/plain": [
       "FloatProgress(value=0.0, bar_style='info', description='Progress:', layout=Layout(height='25px', width='50%'),…"
      ]
     },
     "metadata": {},
     "output_type": "display_data"
    },
    {
     "name": "stdout",
     "output_type": "stream",
     "text": [
      "0.7523284588084667\n",
      "55085.060691530634\n",
      "/mnt/yarn/usercache/livy/appcache/application_1715394311875_0001/container_1715394311875_0001_01_000001/pyspark.zip/pyspark/pandas/utils.py:975: PandasAPIOnSparkAdviceWarning: If `index_col` is not specified for `to_spark`, the existing index is lost when converting to Spark DataFrame.\n",
      "  warnings.warn(message, PandasAPIOnSparkAdviceWarning)"
     ]
    }
   ],
   "source": [
    "#Evaluating the Gradient Boosted Regression model\n",
    "results = (pModel.transform(dummies.to_spark()).select('median_house_value', 'prediction'))\n",
    "\n",
    "evaluator = ev.RegressionEvaluator(labelCol='median_house_value')\n",
    "print(evaluator.evaluate(results, {evaluator.metricName: 'r2'}))\n",
    "print(evaluator.evaluate(results, {evaluator.metricName: 'rmse'}))\n"
   ]
  },
  {
   "cell_type": "code",
   "execution_count": 67,
   "id": "e1468bcb",
   "metadata": {},
   "outputs": [
    {
     "data": {
      "application/vnd.jupyter.widget-view+json": {
       "model_id": "c75f1c55bee8445daf12426dd4895595",
       "version_major": 2,
       "version_minor": 0
      },
      "text/plain": [
       "VBox()"
      ]
     },
     "metadata": {},
     "output_type": "display_data"
    },
    {
     "data": {
      "application/vnd.jupyter.widget-view+json": {
       "model_id": "",
       "version_major": 2,
       "version_minor": 0
      },
      "text/plain": [
       "FloatProgress(value=0.0, bar_style='info', description='Progress:', layout=Layout(height='25px', width='50%'),…"
      ]
     },
     "metadata": {},
     "output_type": "display_data"
    }
   ],
   "source": [
    "# r2 = 0.75, rootMeanSquareError = 55085"
   ]
  },
  {
   "cell_type": "markdown",
   "id": "1ebbb8c4",
   "metadata": {},
   "source": [
    "# Tune the hyperparameters"
   ]
  },
  {
   "cell_type": "code",
   "execution_count": 68,
   "id": "49f0322e",
   "metadata": {},
   "outputs": [
    {
     "data": {
      "application/vnd.jupyter.widget-view+json": {
       "model_id": "37ad991d928a4120b57363e6a6a0605e",
       "version_major": 2,
       "version_minor": 0
      },
      "text/plain": [
       "VBox()"
      ]
     },
     "metadata": {},
     "output_type": "display_data"
    },
    {
     "data": {
      "application/vnd.jupyter.widget-view+json": {
       "model_id": "",
       "version_major": 2,
       "version_minor": 0
      },
      "text/plain": [
       "FloatProgress(value=0.0, bar_style='info', description='Progress:', layout=Layout(height='25px', width='50%'),…"
      ]
     },
     "metadata": {},
     "output_type": "display_data"
    },
    {
     "name": "stdout",
     "output_type": "stream",
     "text": [
      "['longitude', 'latitude', 'housing_median_age', 'total_rooms', 'total_bedrooms', 'households', 'median_income', 'ocean_proximity_INLAND', 'ocean_proximity_NEAR BAY', 'ocean_proximity_NEAR OCEAN']\n",
      "0.5923175849126603 70673.5274746736 52132.32141151762\n",
      "   median_house_value     prediction\n",
      "0               94600  202137.523596\n",
      "1               85800  106986.571566\n",
      "2              103600  150491.922241\n",
      "3              111400  174003.215224\n",
      "4               78300  120300.560358"
     ]
    }
   ],
   "source": [
    "# here we try to tune the hyperparameters for Linear Regression model\n",
    "\n",
    "# first we test a few values for numTopFeatures to find out which gives a better model\n",
    "\n",
    "# create a UnivariateFeatureSelector\n",
    "\n",
    "# featureType categorical and labelType categorical, Spark uses chi-squared, i.e. chi2 in sklearn.\n",
    "# featureType continuous and labelType categorical, Spark uses ANOVA F-test, i.e. f_classif in sklearn.\n",
    "# featureType continuous and labelType continuous, Spark uses F-value, i.e. f_regression in sklearn.\n",
    "\n",
    "# we are going to set FeatureType=continuous and LabelType=continuous to use F-value\n",
    "\n",
    "# select top 10 features since we have total of 12 features\n",
    "selector = feat.UnivariateFeatureSelector(\n",
    "    labelCol='median_house_value'\n",
    "    , outputCol='selected'\n",
    "    , selectionMode = 'numTopFeatures'\n",
    "    ).setFeatureType(\"continuous\"\n",
    "    ).setLabelType(\"continuous\"\n",
    "    ).setSelectionThreshold(10) \n",
    "\n",
    "\n",
    "# create a Linear Regression object to be used to fit the data\n",
    "# set the featuresCol obtained from the selector\n",
    "lr_obj = rg.LinearRegression(\n",
    "    labelCol='median_house_value',\n",
    "    featuresCol=selector.getOutputCol(),\n",
    "     maxIter=10\n",
    "    , regParam=0.01\n",
    "    , elasticNetParam=1.00)\n",
    "\n",
    "\n",
    "# create a VectorAssembler to vectorize the dataframe. exclude median_house_value column\n",
    "vectorAssembler = feat.VectorAssembler(\n",
    "    inputCols=[x for x in dummies.columns if x != 'median_house_value']\n",
    "    , outputCol='features', handleInvalid=\"skip\")\n",
    "\n",
    "# create a pipeline for vectorAssembler, selector, linear regression\n",
    "pip = Pipeline(stages=[vectorAssembler, selector, lr_obj])\n",
    "\n",
    "# run the pipeline\n",
    "pModel = pip.fit(dummies.to_spark())\n",
    "\n",
    "#\n",
    "lr_model = pModel.stages[-1]\n",
    "\n",
    "# get the selected features\n",
    "data_trans_test = pModel.transform(dummies.to_spark())\n",
    "\n",
    "selected_cols = ([x['name'] for x in data_trans_test.schema['selected'].metadata['ml_attr']['attrs']['numeric']])\n",
    "\n",
    "print(selected_cols)\n",
    "\n",
    "#Evaluating the Linear Regression model\n",
    "#print model performance metrics\n",
    "\n",
    "print(\n",
    "    lr_model.summary.r2\n",
    "    , lr_model.summary.rootMeanSquaredError\n",
    "    , lr_model.summary.meanAbsoluteError\n",
    ")\n",
    "\n",
    "#get predictions from the model\n",
    "(\n",
    "    pModel.transform(dummies.to_spark())\n",
    "    .pandas_api()\n",
    "    [['median_house_value', 'prediction']]\n",
    "    .head(5)\n",
    ")"
   ]
  },
  {
   "cell_type": "code",
   "execution_count": 69,
   "id": "82da2b5d",
   "metadata": {},
   "outputs": [
    {
     "data": {
      "application/vnd.jupyter.widget-view+json": {
       "model_id": "357802c810c04f7a945169fb33762364",
       "version_major": 2,
       "version_minor": 0
      },
      "text/plain": [
       "VBox()"
      ]
     },
     "metadata": {},
     "output_type": "display_data"
    },
    {
     "data": {
      "application/vnd.jupyter.widget-view+json": {
       "model_id": "",
       "version_major": 2,
       "version_minor": 0
      },
      "text/plain": [
       "FloatProgress(value=0.0, bar_style='info', description='Progress:', layout=Layout(height='25px', width='50%'),…"
      ]
     },
     "metadata": {},
     "output_type": "display_data"
    },
    {
     "name": "stdout",
     "output_type": "stream",
     "text": [
      "['latitude', 'housing_median_age', 'total_rooms', 'total_bedrooms', 'households', 'median_income', 'ocean_proximity_INLAND', 'ocean_proximity_NEAR BAY', 'ocean_proximity_NEAR OCEAN']\n",
      "0.5907137199654654 70812.40951192752 51783.2544606884\n",
      "   median_house_value     prediction\n",
      "0               94600  222391.418465\n",
      "1               85800  146441.877392\n",
      "2              103600  191166.422830\n",
      "3              111400  195782.131425\n",
      "4               78300  159512.821954\n",
      "/mnt/yarn/usercache/livy/appcache/application_1715394311875_0001/container_1715394311875_0001_01_000001/pyspark.zip/pyspark/pandas/utils.py:975: PandasAPIOnSparkAdviceWarning: If `index_col` is not specified for `to_spark`, the existing index is lost when converting to Spark DataFrame.\n",
      "  warnings.warn(message, PandasAPIOnSparkAdviceWarning)"
     ]
    }
   ],
   "source": [
    "# select top 9 features\n",
    "selector = feat.UnivariateFeatureSelector(\n",
    "    labelCol='median_house_value'\n",
    "    , outputCol='selected'\n",
    "    , selectionMode = 'numTopFeatures'\n",
    "    ).setFeatureType(\"continuous\"\n",
    "    ).setLabelType(\"continuous\"\n",
    "    ).setSelectionThreshold(9) \n",
    "\n",
    "\n",
    "# create a Linear Regression object to be used to fit the data\n",
    "# set the featuresCol obtained from the selector\n",
    "lr_obj = rg.LinearRegression(\n",
    "    labelCol='median_house_value',\n",
    "    featuresCol=selector.getOutputCol(),\n",
    "     maxIter=10\n",
    "    , regParam=0.01\n",
    "    , elasticNetParam=1.00)\n",
    "\n",
    "\n",
    "# create a VectorAssembler to vectorize the dataframe. exclude median_house_value column\n",
    "vectorAssembler = feat.VectorAssembler(\n",
    "    inputCols=[x for x in dummies.columns if x != 'median_house_value']\n",
    "    , outputCol='features', handleInvalid=\"skip\")\n",
    "\n",
    "# create a pipeline for vectorAssembler, selector, linear regression\n",
    "pip = Pipeline(stages=[vectorAssembler, selector, lr_obj])\n",
    "\n",
    "# run the pipeline\n",
    "pModel = pip.fit(dummies.to_spark())\n",
    "\n",
    "#\n",
    "lr_model = pModel.stages[-1]\n",
    "\n",
    "# get the selected features\n",
    "data_trans_test = pModel.transform(dummies.to_spark())\n",
    "\n",
    "selected_cols = ([x['name'] for x in data_trans_test.schema['selected'].metadata['ml_attr']['attrs']['numeric']])\n",
    "\n",
    "print(selected_cols)\n",
    "\n",
    "#Evaluating the Linear Regression model\n",
    "#print model performance metrics\n",
    "\n",
    "print(\n",
    "    lr_model.summary.r2\n",
    "    , lr_model.summary.rootMeanSquaredError\n",
    "    , lr_model.summary.meanAbsoluteError\n",
    ")\n",
    "\n",
    "#get predictions from the model\n",
    "(\n",
    "    pModel.transform(dummies.to_spark())\n",
    "    .pandas_api()\n",
    "    [['median_house_value', 'prediction']]\n",
    "    .head(5)\n",
    ")"
   ]
  },
  {
   "cell_type": "code",
   "execution_count": 70,
   "id": "4bfdc5b7",
   "metadata": {},
   "outputs": [
    {
     "data": {
      "application/vnd.jupyter.widget-view+json": {
       "model_id": "273960c486c84c32abc138efabae8c9b",
       "version_major": 2,
       "version_minor": 0
      },
      "text/plain": [
       "VBox()"
      ]
     },
     "metadata": {},
     "output_type": "display_data"
    },
    {
     "data": {
      "application/vnd.jupyter.widget-view+json": {
       "model_id": "",
       "version_major": 2,
       "version_minor": 0
      },
      "text/plain": [
       "FloatProgress(value=0.0, bar_style='info', description='Progress:', layout=Layout(height='25px', width='50%'),…"
      ]
     },
     "metadata": {},
     "output_type": "display_data"
    },
    {
     "name": "stdout",
     "output_type": "stream",
     "text": [
      "['latitude', 'housing_median_age', 'total_rooms', 'total_bedrooms', 'households', 'median_income', 'ocean_proximity_INLAND', 'ocean_proximity_NEAR BAY']\n",
      "0.587235225721751 71112.6876033541 52288.053757614354\n",
      "   median_house_value     prediction\n",
      "0               94600  215783.297018\n",
      "1               85800  136505.101494\n",
      "2              103600  179810.339664\n",
      "3              111400  189993.797061\n",
      "4               78300  150538.558537\n",
      "/mnt/yarn/usercache/livy/appcache/application_1715394311875_0001/container_1715394311875_0001_01_000001/pyspark.zip/pyspark/pandas/utils.py:975: PandasAPIOnSparkAdviceWarning: If `index_col` is not specified for `to_spark`, the existing index is lost when converting to Spark DataFrame.\n",
      "  warnings.warn(message, PandasAPIOnSparkAdviceWarning)"
     ]
    }
   ],
   "source": [
    "# select top 8 features\n",
    "selector = feat.UnivariateFeatureSelector(\n",
    "    labelCol='median_house_value'\n",
    "    , outputCol='selected'\n",
    "    , selectionMode = 'numTopFeatures'\n",
    "    ).setFeatureType(\"continuous\"\n",
    "    ).setLabelType(\"continuous\"\n",
    "    ).setSelectionThreshold(8) \n",
    "\n",
    "\n",
    "# create a Linear Regression object to be used to fit the data\n",
    "# set the featuresCol obtained from the selector\n",
    "lr_obj = rg.LinearRegression(\n",
    "    labelCol='median_house_value',\n",
    "    featuresCol=selector.getOutputCol(),\n",
    "     maxIter=10\n",
    "    , regParam=0.01\n",
    "    , elasticNetParam=1.00)\n",
    "\n",
    "\n",
    "# create a VectorAssembler to vectorize the dataframe. exclude median_house_value column\n",
    "vectorAssembler = feat.VectorAssembler(\n",
    "    inputCols=[x for x in dummies.columns if x != 'median_house_value']\n",
    "    , outputCol='features', handleInvalid=\"skip\")\n",
    "\n",
    "# create a pipeline for vectorAssembler, selector, linear regression\n",
    "pip = Pipeline(stages=[vectorAssembler, selector, lr_obj])\n",
    "\n",
    "# run the pipeline\n",
    "pModel = pip.fit(dummies.to_spark())\n",
    "\n",
    "#\n",
    "lr_model = pModel.stages[-1]\n",
    "\n",
    "# get the selected features\n",
    "data_trans_test = pModel.transform(dummies.to_spark())\n",
    "\n",
    "selected_cols = ([x['name'] for x in data_trans_test.schema['selected'].metadata['ml_attr']['attrs']['numeric']])\n",
    "\n",
    "print(selected_cols)\n",
    "\n",
    "#Evaluating the Linear Regression model\n",
    "#print model performance metrics\n",
    "\n",
    "print(\n",
    "    lr_model.summary.r2\n",
    "    , lr_model.summary.rootMeanSquaredError\n",
    "    , lr_model.summary.meanAbsoluteError\n",
    ")\n",
    "\n",
    "#get predictions from the model\n",
    "(\n",
    "    pModel.transform(dummies.to_spark())\n",
    "    .pandas_api()\n",
    "    [['median_house_value', 'prediction']]\n",
    "    .head(5)\n",
    ")"
   ]
  },
  {
   "cell_type": "code",
   "execution_count": 71,
   "id": "b94d3d00",
   "metadata": {},
   "outputs": [
    {
     "data": {
      "application/vnd.jupyter.widget-view+json": {
       "model_id": "0807494ef76f49189258cc06f8e9a4f3",
       "version_major": 2,
       "version_minor": 0
      },
      "text/plain": [
       "VBox()"
      ]
     },
     "metadata": {},
     "output_type": "display_data"
    },
    {
     "data": {
      "application/vnd.jupyter.widget-view+json": {
       "model_id": "",
       "version_major": 2,
       "version_minor": 0
      },
      "text/plain": [
       "FloatProgress(value=0.0, bar_style='info', description='Progress:', layout=Layout(height='25px', width='50%'),…"
      ]
     },
     "metadata": {},
     "output_type": "display_data"
    },
    {
     "name": "stdout",
     "output_type": "stream",
     "text": [
      "['latitude', 'housing_median_age', 'total_rooms', 'total_bedrooms', 'households', 'median_income', 'ocean_proximity_INLAND']\n",
      "0.5879862703108139 71047.96173569189 52023.35593633923\n",
      "   median_house_value     prediction\n",
      "0               94600  207162.037716\n",
      "1               85800  135651.551572\n",
      "2              103600  179598.363343\n",
      "3              111400  181010.188542\n",
      "4               78300  148531.990457\n",
      "/mnt/yarn/usercache/livy/appcache/application_1715394311875_0001/container_1715394311875_0001_01_000001/pyspark.zip/pyspark/pandas/utils.py:975: PandasAPIOnSparkAdviceWarning: If `index_col` is not specified for `to_spark`, the existing index is lost when converting to Spark DataFrame.\n",
      "  warnings.warn(message, PandasAPIOnSparkAdviceWarning)"
     ]
    }
   ],
   "source": [
    "# select top 7 features\n",
    "\n",
    "selector = feat.UnivariateFeatureSelector(\n",
    "    labelCol='median_house_value'\n",
    "    , outputCol='selected'\n",
    "    , selectionMode = 'numTopFeatures'\n",
    "    ).setFeatureType(\"continuous\"\n",
    "    ).setLabelType(\"continuous\"\n",
    "    ).setSelectionThreshold(7) \n",
    "\n",
    "\n",
    "# create a Linear Regression object to be used to fit the data\n",
    "# set the featuresCol obtained from the selector\n",
    "lr_obj = rg.LinearRegression(\n",
    "    labelCol='median_house_value',\n",
    "    featuresCol=selector.getOutputCol(),\n",
    "     maxIter=10\n",
    "    , regParam=0.01\n",
    "    , elasticNetParam=1.00)\n",
    "\n",
    "\n",
    "# create a VectorAssembler to vectorize the dataframe. exclude median_house_value column\n",
    "vectorAssembler = feat.VectorAssembler(\n",
    "    inputCols=[x for x in dummies.columns if x != 'median_house_value']\n",
    "    , outputCol='features', handleInvalid=\"skip\")\n",
    "\n",
    "# create a pipeline for vectorAssembler, selector, linear regression\n",
    "pip = Pipeline(stages=[vectorAssembler, selector, lr_obj])\n",
    "\n",
    "# run the pipeline\n",
    "pModel = pip.fit(dummies.to_spark())\n",
    "\n",
    "#\n",
    "lr_model = pModel.stages[-1]\n",
    "\n",
    "# get the selected features\n",
    "data_trans_test = pModel.transform(dummies.to_spark())\n",
    "\n",
    "selected_cols = ([x['name'] for x in data_trans_test.schema['selected'].metadata['ml_attr']['attrs']['numeric']])\n",
    "\n",
    "print(selected_cols)\n",
    "\n",
    "#Evaluating the Linear Regression model\n",
    "#print model performance metrics\n",
    "\n",
    "print(\n",
    "    lr_model.summary.r2\n",
    "    , lr_model.summary.rootMeanSquaredError\n",
    "    , lr_model.summary.meanAbsoluteError\n",
    ")\n",
    "\n",
    "#get predictions from the model\n",
    "(\n",
    "    pModel.transform(dummies.to_spark())\n",
    "    .pandas_api()\n",
    "    [['median_house_value', 'prediction']]\n",
    "    .head(5)\n",
    ")"
   ]
  },
  {
   "cell_type": "code",
   "execution_count": 72,
   "id": "ae954047",
   "metadata": {},
   "outputs": [
    {
     "data": {
      "application/vnd.jupyter.widget-view+json": {
       "model_id": "64bc7edc9ed34a84a01145cbecd0596b",
       "version_major": 2,
       "version_minor": 0
      },
      "text/plain": [
       "VBox()"
      ]
     },
     "metadata": {},
     "output_type": "display_data"
    },
    {
     "data": {
      "application/vnd.jupyter.widget-view+json": {
       "model_id": "",
       "version_major": 2,
       "version_minor": 0
      },
      "text/plain": [
       "FloatProgress(value=0.0, bar_style='info', description='Progress:', layout=Layout(height='25px', width='50%'),…"
      ]
     },
     "metadata": {},
     "output_type": "display_data"
    },
    {
     "name": "stdout",
     "output_type": "stream",
     "text": [
      "['latitude', 'housing_median_age', 'total_rooms', 'total_bedrooms', 'households', 'median_income']\n",
      "0.5369845400222857 75317.08879972424 55896.96558035677\n",
      "   median_house_value     prediction\n",
      "0               94600  172525.252661\n",
      "1               85800   68973.007967\n",
      "2              103600  118162.697732\n",
      "3              111400  143463.744106\n",
      "4               78300   93534.682245\n",
      "/mnt/yarn/usercache/livy/appcache/application_1715394311875_0001/container_1715394311875_0001_01_000001/pyspark.zip/pyspark/pandas/utils.py:975: PandasAPIOnSparkAdviceWarning: If `index_col` is not specified for `to_spark`, the existing index is lost when converting to Spark DataFrame.\n",
      "  warnings.warn(message, PandasAPIOnSparkAdviceWarning)"
     ]
    }
   ],
   "source": [
    "# Now try top 6 features\n",
    "\n",
    "selector = feat.UnivariateFeatureSelector(\n",
    "    labelCol='median_house_value'\n",
    "    , outputCol='selected'\n",
    "    , selectionMode = 'numTopFeatures'\n",
    "    ).setFeatureType(\"continuous\"\n",
    "    ).setLabelType(\"continuous\"\n",
    "    ).setSelectionThreshold(6) \n",
    "\n",
    "\n",
    "# create a Linear Regression object to be used to fit the data\n",
    "# set the featuresCol obtained from the selector\n",
    "lr_obj = rg.LinearRegression(\n",
    "    labelCol='median_house_value',\n",
    "    featuresCol=selector.getOutputCol(),\n",
    "     maxIter=10\n",
    "    , regParam=0.01\n",
    "    , elasticNetParam=1.00)\n",
    "\n",
    "\n",
    "# create a VectorAssembler to vectorize the dataframe. exclude median_house_value column\n",
    "vectorAssembler = feat.VectorAssembler(\n",
    "    inputCols=[x for x in dummies.columns if x != 'median_house_value']\n",
    "    , outputCol='features', handleInvalid=\"skip\")\n",
    "\n",
    "# create a pipeline for vectorAssembler, selector, linear regression\n",
    "pip = Pipeline(stages=[vectorAssembler, selector, lr_obj])\n",
    "\n",
    "# run the pipeline\n",
    "pModel = pip.fit(dummies.to_spark())\n",
    "\n",
    "#\n",
    "lr_model = pModel.stages[-1]\n",
    "\n",
    "# get the selected features\n",
    "data_trans_test = pModel.transform(dummies.to_spark())\n",
    "\n",
    "selected_cols = ([x['name'] for x in data_trans_test.schema['selected'].metadata['ml_attr']['attrs']['numeric']])\n",
    "\n",
    "print(selected_cols)\n",
    "\n",
    "#Evaluating the Linear Regression model\n",
    "#print model performance metrics\n",
    "\n",
    "print(\n",
    "    lr_model.summary.r2\n",
    "    , lr_model.summary.rootMeanSquaredError\n",
    "    , lr_model.summary.meanAbsoluteError\n",
    ")\n",
    "\n",
    "#get predictions from the model\n",
    "(\n",
    "    pModel.transform(dummies.to_spark())\n",
    "    .pandas_api()\n",
    "    [['median_house_value', 'prediction']]\n",
    "    .head(5)\n",
    ")"
   ]
  },
  {
   "cell_type": "code",
   "execution_count": 73,
   "id": "90e51355",
   "metadata": {},
   "outputs": [
    {
     "data": {
      "application/vnd.jupyter.widget-view+json": {
       "model_id": "71013ffd8bcc4b668e6829e855575367",
       "version_major": 2,
       "version_minor": 0
      },
      "text/plain": [
       "VBox()"
      ]
     },
     "metadata": {},
     "output_type": "display_data"
    },
    {
     "data": {
      "application/vnd.jupyter.widget-view+json": {
       "model_id": "",
       "version_major": 2,
       "version_minor": 0
      },
      "text/plain": [
       "FloatProgress(value=0.0, bar_style='info', description='Progress:', layout=Layout(height='25px', width='50%'),…"
      ]
     },
     "metadata": {},
     "output_type": "display_data"
    }
   ],
   "source": [
    "# here is a summary of numTopFeatures tests\n",
    "# r2, rootMeanSquaredError, meanAbsoluteError\n",
    "# 10: 0.5923175849126124 70673.52747467773 52132.32141152542\n",
    "# 9: 0.5907137199654654 70812.40951192752 51783.2544606884\n",
    "# 8: 0.5872352257217488 71112.6876033543 52288.05375761412\n",
    "# 7: 0.5879862703108139 71047.96173569189 52023.35593633923\n",
    "# 6: 0.536984540022285 75317.08879972428 55896.96558035669\n",
    "# \n",
    "# from 7 to 6 there is a larger change in r2 and rootMeanSquaredError.\n",
    "# it seems keeping 7 features is a good choice\n",
    "# selected features are\n",
    "# ['latitude', 'housing_median_age', 'total_rooms', 'total_bedrooms', 'households', 'median_income', 'ocean_proximity_INLAND']"
   ]
  },
  {
   "cell_type": "code",
   "execution_count": 74,
   "id": "da0301ae",
   "metadata": {},
   "outputs": [
    {
     "data": {
      "application/vnd.jupyter.widget-view+json": {
       "model_id": "e4f900ae7498426fb92c21cc296571fa",
       "version_major": 2,
       "version_minor": 0
      },
      "text/plain": [
       "VBox()"
      ]
     },
     "metadata": {},
     "output_type": "display_data"
    },
    {
     "data": {
      "application/vnd.jupyter.widget-view+json": {
       "model_id": "",
       "version_major": 2,
       "version_minor": 0
      },
      "text/plain": [
       "FloatProgress(value=0.0, bar_style='info', description='Progress:', layout=Layout(height='25px', width='50%'),…"
      ]
     },
     "metadata": {},
     "output_type": "display_data"
    }
   ],
   "source": [
    "# now try to tune regParam and elasticNetParam values\n",
    "\n",
    "# create a VectorAssembler to vectorize the dataframe. exclude median_house_value column\n",
    "vectorAssembler = feat.VectorAssembler(\n",
    "    inputCols=[x for x in dummies.columns if x != 'median_house_value']\n",
    "    , outputCol='features', handleInvalid=\"skip\")\n",
    "\n",
    "\n",
    "# create a selector\n",
    "# select 7 features. we have total of 12 features\n",
    "selector = feat.UnivariateFeatureSelector(\n",
    "    labelCol='median_house_value'\n",
    "    , outputCol='selected'\n",
    "    , selectionMode = 'numTopFeatures'\n",
    "    ).setFeatureType(\"continuous\"\n",
    "    ).setLabelType(\"continuous\"\n",
    "    ).setSelectionThreshold(7) \n",
    "\n",
    "\n",
    "# create a Linear Regression object to be used to fit the data\n",
    "# set the featuresCol obtained from the selector\n",
    "lr_obj = rg.LinearRegression(\n",
    "    labelCol='median_house_value',\n",
    "    featuresCol=selector.getOutputCol(),\n",
    "    maxIter=10)\n",
    "\n",
    "\n",
    "#use ParamGridBuilder to build a grid of parameters\n",
    "linearReg_grid = (\n",
    "    tune.ParamGridBuilder()\n",
    "    #try values for regParam\n",
    "    .addGrid(lr_obj.regParam\n",
    "            ,  [0.0, 0.2, 0.4, 0.6, 0.8, 1]\n",
    "        )\n",
    "    #try values for elasticNetParam\n",
    "    .addGrid(lr_obj.elasticNetParam\n",
    "            ,  [0, 0.5, 1]\n",
    "        )\n",
    "    .build()\n",
    ")\n",
    "\n",
    "# create an evaluator\n",
    "evaluator = ev.RegressionEvaluator(labelCol='median_house_value')\n",
    "\n",
    "# use K-fold cross validation for grid search\n",
    "# CrossValidator binds all of these together\n",
    "# default value is k=3\n",
    "cross_v = tune.CrossValidator(\n",
    "    estimator=lr_obj\n",
    "    , estimatorParamMaps=linearReg_grid\n",
    "    , evaluator=evaluator\n",
    ")"
   ]
  },
  {
   "cell_type": "code",
   "execution_count": 75,
   "id": "d3e512bb",
   "metadata": {},
   "outputs": [
    {
     "data": {
      "application/vnd.jupyter.widget-view+json": {
       "model_id": "d2e284b333144b7aa438c8214e52d93d",
       "version_major": 2,
       "version_minor": 0
      },
      "text/plain": [
       "VBox()"
      ]
     },
     "metadata": {},
     "output_type": "display_data"
    },
    {
     "data": {
      "application/vnd.jupyter.widget-view+json": {
       "model_id": "",
       "version_major": 2,
       "version_minor": 0
      },
      "text/plain": [
       "FloatProgress(value=0.0, bar_style='info', description='Progress:', layout=Layout(height='25px', width='50%'),…"
      ]
     },
     "metadata": {},
     "output_type": "display_data"
    },
    {
     "name": "stdout",
     "output_type": "stream",
     "text": [
      "/mnt/yarn/usercache/livy/appcache/application_1715394311875_0001/container_1715394311875_0001_01_000001/pyspark.zip/pyspark/pandas/utils.py:975: PandasAPIOnSparkAdviceWarning: If `index_col` is not specified for `to_spark`, the existing index is lost when converting to Spark DataFrame.\n",
      "  warnings.warn(message, PandasAPIOnSparkAdviceWarning)"
     ]
    }
   ],
   "source": [
    "# create a pipeline for vectorAssembler\n",
    "pip = Pipeline(stages=[vectorAssembler, selector])\n",
    "\n",
    "# run the pipeline\n",
    "pModel = pip.fit(dummies.to_spark())\n"
   ]
  },
  {
   "cell_type": "code",
   "execution_count": 76,
   "id": "18ff424e",
   "metadata": {},
   "outputs": [
    {
     "data": {
      "application/vnd.jupyter.widget-view+json": {
       "model_id": "5f0798cddebf4d6a904cbb6869bc18c1",
       "version_major": 2,
       "version_minor": 0
      },
      "text/plain": [
       "VBox()"
      ]
     },
     "metadata": {},
     "output_type": "display_data"
    },
    {
     "data": {
      "application/vnd.jupyter.widget-view+json": {
       "model_id": "",
       "version_major": 2,
       "version_minor": 0
      },
      "text/plain": [
       "FloatProgress(value=0.0, bar_style='info', description='Progress:', layout=Layout(height='25px', width='50%'),…"
      ]
     },
     "metadata": {},
     "output_type": "display_data"
    },
    {
     "name": "stdout",
     "output_type": "stream",
     "text": [
      "['latitude', 'housing_median_age', 'total_rooms', 'total_bedrooms', 'households', 'median_income', 'ocean_proximity_INLAND']"
     ]
    }
   ],
   "source": [
    "# get the selected features\n",
    "data_trans_test = pModel.transform(dummies.to_spark())\n",
    "\n",
    "selected_cols = ([x['name'] for x in data_trans_test.schema['selected'].metadata['ml_attr']['attrs']['numeric']])\n",
    "\n",
    "print(selected_cols)"
   ]
  },
  {
   "cell_type": "code",
   "execution_count": 77,
   "id": "7a813882",
   "metadata": {},
   "outputs": [
    {
     "data": {
      "application/vnd.jupyter.widget-view+json": {
       "model_id": "0ac388d994bb44239c07a8ac80df805a",
       "version_major": 2,
       "version_minor": 0
      },
      "text/plain": [
       "VBox()"
      ]
     },
     "metadata": {},
     "output_type": "display_data"
    },
    {
     "data": {
      "application/vnd.jupyter.widget-view+json": {
       "model_id": "",
       "version_major": 2,
       "version_minor": 0
      },
      "text/plain": [
       "FloatProgress(value=0.0, bar_style='info', description='Progress:', layout=Layout(height='25px', width='50%'),…"
      ]
     },
     "metadata": {},
     "output_type": "display_data"
    }
   ],
   "source": [
    "# top 7 features are\n",
    "# ['latitude', 'housing_median_age', 'total_rooms', 'total_bedrooms', 'households', 'median_income', 'ocean_proximity_INLAND']"
   ]
  },
  {
   "cell_type": "code",
   "execution_count": 78,
   "id": "7a30dfa0",
   "metadata": {},
   "outputs": [
    {
     "data": {
      "application/vnd.jupyter.widget-view+json": {
       "model_id": "4fb8dd4b0de0404795bae4364a3fbed0",
       "version_major": 2,
       "version_minor": 0
      },
      "text/plain": [
       "VBox()"
      ]
     },
     "metadata": {},
     "output_type": "display_data"
    },
    {
     "data": {
      "application/vnd.jupyter.widget-view+json": {
       "model_id": "",
       "version_major": 2,
       "version_minor": 0
      },
      "text/plain": [
       "FloatProgress(value=0.0, bar_style='info', description='Progress:', layout=Layout(height='25px', width='50%'),…"
      ]
     },
     "metadata": {},
     "output_type": "display_data"
    },
    {
     "name": "stderr",
     "output_type": "stream",
     "text": [
      "Exception in thread cell_monitor-78:\n",
      "Traceback (most recent call last):\n",
      "  File \"/mnt/notebook-env/lib/python3.9/threading.py\", line 980, in _bootstrap_inner\n",
      "    self.run()\n",
      "  File \"/mnt/notebook-env/lib/python3.9/threading.py\", line 917, in run\n",
      "    self._target(*self._args, **self._kwargs)\n",
      "  File \"/mnt/notebook-env/lib/python3.9/site-packages/awseditorssparkmonitoringwidget/cellmonitor.py\", line 154, in cell_monitor\n",
      "    job_group_filtered_jobs = [job for job in jobs_data if job['jobGroup'] == str(statement_id)]\n",
      "  File \"/mnt/notebook-env/lib/python3.9/site-packages/awseditorssparkmonitoringwidget/cellmonitor.py\", line 154, in <listcomp>\n",
      "    job_group_filtered_jobs = [job for job in jobs_data if job['jobGroup'] == str(statement_id)]\n",
      "KeyError: 'jobGroup'\n"
     ]
    }
   ],
   "source": [
    "linearReg_modelTest = cross_v.fit(\n",
    "    pModel.transform(dummies.to_spark())\n",
    ")\n"
   ]
  },
  {
   "cell_type": "code",
   "execution_count": 79,
   "id": "aa02fed9",
   "metadata": {},
   "outputs": [
    {
     "data": {
      "application/vnd.jupyter.widget-view+json": {
       "model_id": "bde1a2c31fb248d2b06a357c2e8a7b3b",
       "version_major": 2,
       "version_minor": 0
      },
      "text/plain": [
       "VBox()"
      ]
     },
     "metadata": {},
     "output_type": "display_data"
    },
    {
     "name": "stderr",
     "output_type": "stream",
     "text": [
      "Exception in thread cell_monitor-79:\n",
      "Traceback (most recent call last):\n",
      "  File \"/mnt/notebook-env/lib/python3.9/threading.py\", line 980, in _bootstrap_inner\n",
      "    self.run()\n",
      "  File \"/mnt/notebook-env/lib/python3.9/threading.py\", line 917, in run\n",
      "    self._target(*self._args, **self._kwargs)\n",
      "  File \"/mnt/notebook-env/lib/python3.9/site-packages/awseditorssparkmonitoringwidget/cellmonitor.py\", line 154, in cell_monitor\n",
      "    job_group_filtered_jobs = [job for job in jobs_data if job['jobGroup'] == str(statement_id)]\n",
      "  File \"/mnt/notebook-env/lib/python3.9/site-packages/awseditorssparkmonitoringwidget/cellmonitor.py\", line 154, in <listcomp>\n",
      "    job_group_filtered_jobs = [job for job in jobs_data if job['jobGroup'] == str(statement_id)]\n",
      "KeyError: 'jobGroup'\n"
     ]
    },
    {
     "data": {
      "application/vnd.jupyter.widget-view+json": {
       "model_id": "",
       "version_major": 2,
       "version_minor": 0
      },
      "text/plain": [
       "FloatProgress(value=0.0, bar_style='info', description='Progress:', layout=Layout(height='25px', width='50%'),…"
      ]
     },
     "metadata": {},
     "output_type": "display_data"
    },
    {
     "name": "stdout",
     "output_type": "stream",
     "text": [
      "Best params - regParam: 1.0, elasticNetParam: 0.0"
     ]
    }
   ],
   "source": [
    "print('Best params - regParam: {}, elasticNetParam: {}'.format(\n",
    "    linearReg_modelTest.bestModel._java_obj.getRegParam(),\n",
    "      linearReg_modelTest.bestModel._java_obj.getElasticNetParam()))"
   ]
  },
  {
   "cell_type": "code",
   "execution_count": 80,
   "id": "1ac89f45",
   "metadata": {},
   "outputs": [
    {
     "data": {
      "application/vnd.jupyter.widget-view+json": {
       "model_id": "aa3f1977028a4c4881c050229b431103",
       "version_major": 2,
       "version_minor": 0
      },
      "text/plain": [
       "VBox()"
      ]
     },
     "metadata": {},
     "output_type": "display_data"
    },
    {
     "data": {
      "application/vnd.jupyter.widget-view+json": {
       "model_id": "",
       "version_major": 2,
       "version_minor": 0
      },
      "text/plain": [
       "FloatProgress(value=0.0, bar_style='info', description='Progress:', layout=Layout(height='25px', width='50%'),…"
      ]
     },
     "metadata": {},
     "output_type": "display_data"
    },
    {
     "name": "stderr",
     "output_type": "stream",
     "text": [
      "Exception in thread cell_monitor-80:\n",
      "Traceback (most recent call last):\n",
      "  File \"/mnt/notebook-env/lib/python3.9/threading.py\", line 980, in _bootstrap_inner\n",
      "    self.run()\n",
      "  File \"/mnt/notebook-env/lib/python3.9/threading.py\", line 917, in run\n",
      "    self._target(*self._args, **self._kwargs)\n",
      "  File \"/mnt/notebook-env/lib/python3.9/site-packages/awseditorssparkmonitoringwidget/cellmonitor.py\", line 154, in cell_monitor\n",
      "    job_group_filtered_jobs = [job for job in jobs_data if job['jobGroup'] == str(statement_id)]\n",
      "  File \"/mnt/notebook-env/lib/python3.9/site-packages/awseditorssparkmonitoringwidget/cellmonitor.py\", line 154, in <listcomp>\n",
      "    job_group_filtered_jobs = [job for job in jobs_data if job['jobGroup'] == str(statement_id)]\n",
      "KeyError: 'jobGroup'\n"
     ]
    },
    {
     "name": "stdout",
     "output_type": "stream",
     "text": [
      "    regParam  elasticNetParam           F-1\n",
      "4        0.2              0.5  71381.614112\n",
      "17       1.0              1.0  71366.381742\n",
      "14       0.8              1.0  71366.354495\n",
      "16       1.0              0.5  71366.334259\n",
      "11       0.6              1.0  71366.327269\n",
      "13       0.8              0.5  71366.316538\n",
      "8        0.4              1.0  71366.300065\n",
      "10       0.6              0.5  71207.553846\n",
      "7        0.4              0.5  71207.547711\n",
      "5        0.2              1.0  71207.541733\n",
      "0        0.0              0.0  70677.075320\n",
      "2        0.0              1.0  70677.075320\n",
      "1        0.0              0.5  70677.075320\n",
      "3        0.2              0.0  70677.070939\n",
      "6        0.4              0.0  70677.066575\n",
      "9        0.6              0.0  70677.062229\n",
      "12       0.8              0.0  70677.057901\n",
      "15       1.0              0.0  70677.053590"
     ]
    }
   ],
   "source": [
    "tuning_results = pd.DataFrame([list(x.values()) for x in linearReg_grid], columns=['regParam', 'elasticNetParam'])\n",
    "tuning_results['F-1'] = linearReg_modelTest.avgMetrics\n",
    "tuning_results.sort_values('F-1', ascending=False)"
   ]
  },
  {
   "cell_type": "code",
   "execution_count": 81,
   "id": "507b181a",
   "metadata": {},
   "outputs": [
    {
     "data": {
      "application/vnd.jupyter.widget-view+json": {
       "model_id": "bb71d254c9354382806c4517942957a4",
       "version_major": 2,
       "version_minor": 0
      },
      "text/plain": [
       "VBox()"
      ]
     },
     "metadata": {},
     "output_type": "display_data"
    },
    {
     "data": {
      "application/vnd.jupyter.widget-view+json": {
       "model_id": "",
       "version_major": 2,
       "version_minor": 0
      },
      "text/plain": [
       "FloatProgress(value=0.0, bar_style='info', description='Progress:', layout=Layout(height='25px', width='50%'),…"
      ]
     },
     "metadata": {},
     "output_type": "display_data"
    },
    {
     "name": "stderr",
     "output_type": "stream",
     "text": [
      "Exception in thread cell_monitor-81:\n",
      "Traceback (most recent call last):\n",
      "  File \"/mnt/notebook-env/lib/python3.9/threading.py\", line 980, in _bootstrap_inner\n",
      "    self.run()\n",
      "  File \"/mnt/notebook-env/lib/python3.9/threading.py\", line 917, in run\n",
      "    self._target(*self._args, **self._kwargs)\n",
      "  File \"/mnt/notebook-env/lib/python3.9/site-packages/awseditorssparkmonitoringwidget/cellmonitor.py\", line 154, in cell_monitor\n",
      "    job_group_filtered_jobs = [job for job in jobs_data if job['jobGroup'] == str(statement_id)]\n",
      "  File \"/mnt/notebook-env/lib/python3.9/site-packages/awseditorssparkmonitoringwidget/cellmonitor.py\", line 154, in <listcomp>\n",
      "    job_group_filtered_jobs = [job for job in jobs_data if job['jobGroup'] == str(statement_id)]\n",
      "KeyError: 'jobGroup'\n"
     ]
    }
   ],
   "source": [
    "# Best params - regParam: 1.0, elasticNetParam: 0.0\n"
   ]
  },
  {
   "cell_type": "code",
   "execution_count": 82,
   "id": "b2fb561b",
   "metadata": {},
   "outputs": [
    {
     "data": {
      "application/vnd.jupyter.widget-view+json": {
       "model_id": "ef56ade876104f97b6abde2a4ea17c98",
       "version_major": 2,
       "version_minor": 0
      },
      "text/plain": [
       "VBox()"
      ]
     },
     "metadata": {},
     "output_type": "display_data"
    },
    {
     "data": {
      "application/vnd.jupyter.widget-view+json": {
       "model_id": "",
       "version_major": 2,
       "version_minor": 0
      },
      "text/plain": [
       "FloatProgress(value=0.0, bar_style='info', description='Progress:', layout=Layout(height='25px', width='50%'),…"
      ]
     },
     "metadata": {},
     "output_type": "display_data"
    },
    {
     "name": "stdout",
     "output_type": "stream",
     "text": [
      "0.5927061242424883 70639.84195180048 51703.19012813592"
     ]
    },
    {
     "name": "stderr",
     "output_type": "stream",
     "text": [
      "Exception in thread cell_monitor-82:\n",
      "Traceback (most recent call last):\n",
      "  File \"/mnt/notebook-env/lib/python3.9/threading.py\", line 980, in _bootstrap_inner\n",
      "    self.run()\n",
      "  File \"/mnt/notebook-env/lib/python3.9/threading.py\", line 917, in run\n",
      "    self._target(*self._args, **self._kwargs)\n",
      "  File \"/mnt/notebook-env/lib/python3.9/site-packages/awseditorssparkmonitoringwidget/cellmonitor.py\", line 154, in cell_monitor\n",
      "    job_group_filtered_jobs = [job for job in jobs_data if job['jobGroup'] == str(statement_id)]\n",
      "  File \"/mnt/notebook-env/lib/python3.9/site-packages/awseditorssparkmonitoringwidget/cellmonitor.py\", line 154, in <listcomp>\n",
      "    job_group_filtered_jobs = [job for job in jobs_data if job['jobGroup'] == str(statement_id)]\n",
      "KeyError: 'jobGroup'\n"
     ]
    }
   ],
   "source": [
    "# get the best model\n",
    "lr_model = linearReg_modelTest.bestModel\n",
    "\n",
    "#print model performance metrics\n",
    "summary = lr_model.summary\n",
    "print(\n",
    "    summary.r2\n",
    "    , summary.rootMeanSquaredError\n",
    "    , summary.meanAbsoluteError\n",
    ")\n"
   ]
  },
  {
   "cell_type": "code",
   "execution_count": 83,
   "id": "59e7f481",
   "metadata": {},
   "outputs": [
    {
     "data": {
      "application/vnd.jupyter.widget-view+json": {
       "model_id": "b98f1c42416248d19ffc6a5c3ae2c489",
       "version_major": 2,
       "version_minor": 0
      },
      "text/plain": [
       "VBox()"
      ]
     },
     "metadata": {},
     "output_type": "display_data"
    },
    {
     "name": "stderr",
     "output_type": "stream",
     "text": [
      "Exception in thread cell_monitor-83:\n",
      "Traceback (most recent call last):\n",
      "  File \"/mnt/notebook-env/lib/python3.9/threading.py\", line 980, in _bootstrap_inner\n"
     ]
    },
    {
     "data": {
      "application/vnd.jupyter.widget-view+json": {
       "model_id": "",
       "version_major": 2,
       "version_minor": 0
      },
      "text/plain": [
       "FloatProgress(value=0.0, bar_style='info', description='Progress:', layout=Layout(height='25px', width='50%'),…"
      ]
     },
     "metadata": {},
     "output_type": "display_data"
    },
    {
     "name": "stderr",
     "output_type": "stream",
     "text": [
      "    self.run()\n",
      "  File \"/mnt/notebook-env/lib/python3.9/threading.py\", line 917, in run\n",
      "    self._target(*self._args, **self._kwargs)\n",
      "  File \"/mnt/notebook-env/lib/python3.9/site-packages/awseditorssparkmonitoringwidget/cellmonitor.py\", line 154, in cell_monitor\n",
      "    job_group_filtered_jobs = [job for job in jobs_data if job['jobGroup'] == str(statement_id)]\n",
      "  File \"/mnt/notebook-env/lib/python3.9/site-packages/awseditorssparkmonitoringwidget/cellmonitor.py\", line 154, in <listcomp>\n",
      "    job_group_filtered_jobs = [job for job in jobs_data if job['jobGroup'] == str(statement_id)]\n",
      "KeyError: 'jobGroup'\n"
     ]
    },
    {
     "name": "stdout",
     "output_type": "stream",
     "text": [
      "0.5927061242424881 70639.84195180048 51703.19012813592\n",
      "/mnt/yarn/usercache/livy/appcache/application_1715394311875_0001/container_1715394311875_0001_01_000001/pyspark.zip/pyspark/pandas/utils.py:975: PandasAPIOnSparkAdviceWarning: If `index_col` is not specified for `to_spark`, the existing index is lost when converting to Spark DataFrame.\n",
      "  warnings.warn(message, PandasAPIOnSparkAdviceWarning)"
     ]
    }
   ],
   "source": [
    "# redo linear regression with regParam = 1  elasticNetParam = 0.0 obtained for best model\n",
    "# and only use the top 7 features\n",
    "\n",
    "# create a VectorAssembler to vectorize the dataframe. exclude median_house_value column\n",
    "vectorAssembler = feat.VectorAssembler(\n",
    "    inputCols=[x for x in dummies.columns if x != 'median_house_value']\n",
    "    , outputCol='features', handleInvalid=\"skip\")\n",
    "\n",
    "\n",
    "# create a selector\n",
    "# select 7 features. we have total of 12 features\n",
    "selector = feat.UnivariateFeatureSelector(\n",
    "    labelCol='median_house_value'\n",
    "    , outputCol='selected'\n",
    "    , selectionMode = 'numTopFeatures'\n",
    "    ).setFeatureType(\"continuous\"\n",
    "    ).setLabelType(\"continuous\"\n",
    "    ).setSelectionThreshold(7) \n",
    "\n",
    "\n",
    "# create a Linear Regression object to be used to fit the data\n",
    "# set the featuresCol obtained from the selector\n",
    "lr_obj = rg.LinearRegression(\n",
    "    labelCol='median_house_value',\n",
    "    featuresCol=selector.getOutputCol(),\n",
    "    maxIter=10\n",
    "    , regParam=1\n",
    "    , elasticNetParam=0.0)\n",
    "\n",
    "\n",
    "# create a VectorAssembler to vectorize the dataframe. exclude median_house_value column\n",
    "vectorAssembler = feat.VectorAssembler(\n",
    "    inputCols=[x for x in dummies.columns if x != 'median_house_value']\n",
    "    , outputCol='features', handleInvalid=\"skip\")\n",
    "\n",
    "# create a pipeline for vectorAssembler, selector, linear regression\n",
    "pip = Pipeline(stages=[vectorAssembler, selector, lr_obj])\n",
    "\n",
    "# run the pipeline\n",
    "pModel = pip.fit(dummies.to_spark())\n",
    "\n",
    "#\n",
    "lr_model = pModel.stages[-1]\n",
    "\n",
    "\n",
    "#Evaluating the Linear Regression model\n",
    "\n",
    "#print model performance metrics\n",
    "summary = lr_model.summary\n",
    "print(\n",
    "    summary.r2\n",
    "    , summary.rootMeanSquaredError\n",
    "    , summary.meanAbsoluteError\n",
    ")\n"
   ]
  },
  {
   "cell_type": "code",
   "execution_count": 84,
   "id": "fa7b018f",
   "metadata": {},
   "outputs": [
    {
     "data": {
      "application/vnd.jupyter.widget-view+json": {
       "model_id": "59f63ee7a6c84ad097945ea3c28b27d4",
       "version_major": 2,
       "version_minor": 0
      },
      "text/plain": [
       "VBox()"
      ]
     },
     "metadata": {},
     "output_type": "display_data"
    },
    {
     "data": {
      "application/vnd.jupyter.widget-view+json": {
       "model_id": "",
       "version_major": 2,
       "version_minor": 0
      },
      "text/plain": [
       "FloatProgress(value=0.0, bar_style='info', description='Progress:', layout=Layout(height='25px', width='50%'),…"
      ]
     },
     "metadata": {},
     "output_type": "display_data"
    },
    {
     "name": "stderr",
     "output_type": "stream",
     "text": [
      "Exception in thread cell_monitor-84:\n",
      "Traceback (most recent call last):\n",
      "  File \"/mnt/notebook-env/lib/python3.9/threading.py\", line 980, in _bootstrap_inner\n",
      "    self.run()\n",
      "  File \"/mnt/notebook-env/lib/python3.9/threading.py\", line 917, in run\n",
      "    self._target(*self._args, **self._kwargs)\n",
      "  File \"/mnt/notebook-env/lib/python3.9/site-packages/awseditorssparkmonitoringwidget/cellmonitor.py\", line 154, in cell_monitor\n",
      "    job_group_filtered_jobs = [job for job in jobs_data if job['jobGroup'] == str(statement_id)]\n",
      "  File \"/mnt/notebook-env/lib/python3.9/site-packages/awseditorssparkmonitoringwidget/cellmonitor.py\", line 154, in <listcomp>\n",
      "    job_group_filtered_jobs = [job for job in jobs_data if job['jobGroup'] == str(statement_id)]\n",
      "KeyError: 'jobGroup'\n"
     ]
    }
   ],
   "source": [
    "# r2 = 0.59, rootMeanSquaredError = 70639\n",
    "# comparing with \n",
    "# r2 = 0.585, rootMeanSquaredError = 67548\n",
    "# when setting regParam to 0.01, ElasticNetParam to 1.0, numTopFeatures = 7, \n",
    "# this model is almost the same "
   ]
  },
  {
   "cell_type": "code",
   "execution_count": 85,
   "id": "6f9c075b",
   "metadata": {},
   "outputs": [
    {
     "data": {
      "application/vnd.jupyter.widget-view+json": {
       "model_id": "42e2eadc35c742c3974584ce00c012b9",
       "version_major": 2,
       "version_minor": 0
      },
      "text/plain": [
       "VBox()"
      ]
     },
     "metadata": {},
     "output_type": "display_data"
    },
    {
     "data": {
      "application/vnd.jupyter.widget-view+json": {
       "model_id": "",
       "version_major": 2,
       "version_minor": 0
      },
      "text/plain": [
       "FloatProgress(value=0.0, bar_style='info', description='Progress:', layout=Layout(height='25px', width='50%'),…"
      ]
     },
     "metadata": {},
     "output_type": "display_data"
    },
    {
     "name": "stderr",
     "output_type": "stream",
     "text": [
      "Exception in thread cell_monitor-85:\n",
      "Traceback (most recent call last):\n",
      "  File \"/mnt/notebook-env/lib/python3.9/threading.py\", line 980, in _bootstrap_inner\n",
      "    self.run()\n",
      "  File \"/mnt/notebook-env/lib/python3.9/threading.py\", line 917, in run\n",
      "    self._target(*self._args, **self._kwargs)\n",
      "  File \"/mnt/notebook-env/lib/python3.9/site-packages/awseditorssparkmonitoringwidget/cellmonitor.py\", line 154, in cell_monitor\n",
      "    job_group_filtered_jobs = [job for job in jobs_data if job['jobGroup'] == str(statement_id)]\n",
      "  File \"/mnt/notebook-env/lib/python3.9/site-packages/awseditorssparkmonitoringwidget/cellmonitor.py\", line 154, in <listcomp>\n",
      "    job_group_filtered_jobs = [job for job in jobs_data if job['jobGroup'] == str(statement_id)]\n",
      "KeyError: 'jobGroup'\n"
     ]
    },
    {
     "name": "stdout",
     "output_type": "stream",
     "text": [
      "   median_house_value     prediction\n",
      "0               94600  210480.915348\n",
      "1               85800  133839.751719\n",
      "2              103600  180432.094448\n",
      "3              111400  181246.141457\n",
      "4               78300  145625.314447"
     ]
    }
   ],
   "source": [
    "#get predictions from the model\n",
    "(\n",
    "    pModel.transform(dummies.to_spark())\n",
    "    .pandas_api()\n",
    "    [['median_house_value', 'prediction']]\n",
    "    .head(5)\n",
    ")"
   ]
  },
  {
   "cell_type": "code",
   "execution_count": 87,
   "id": "361ad261",
   "metadata": {},
   "outputs": [
    {
     "data": {
      "application/vnd.jupyter.widget-view+json": {
       "model_id": "921aea5e346645c2ae6ffc20c00baefa",
       "version_major": 2,
       "version_minor": 0
      },
      "text/plain": [
       "VBox()"
      ]
     },
     "metadata": {},
     "output_type": "display_data"
    },
    {
     "data": {
      "application/vnd.jupyter.widget-view+json": {
       "model_id": "",
       "version_major": 2,
       "version_minor": 0
      },
      "text/plain": [
       "FloatProgress(value=0.0, bar_style='info', description='Progress:', layout=Layout(height='25px', width='50%'),…"
      ]
     },
     "metadata": {},
     "output_type": "display_data"
    },
    {
     "name": "stderr",
     "output_type": "stream",
     "text": [
      "Exception in thread cell_monitor-87:\n",
      "Traceback (most recent call last):\n",
      "  File \"/mnt/notebook-env/lib/python3.9/threading.py\", line 980, in _bootstrap_inner\n",
      "    self.run()\n",
      "  File \"/mnt/notebook-env/lib/python3.9/threading.py\", line 917, in run\n",
      "    self._target(*self._args, **self._kwargs)\n",
      "  File \"/mnt/notebook-env/lib/python3.9/site-packages/awseditorssparkmonitoringwidget/cellmonitor.py\", line 154, in cell_monitor\n",
      "    job_group_filtered_jobs = [job for job in jobs_data if job['jobGroup'] == str(statement_id)]\n",
      "  File \"/mnt/notebook-env/lib/python3.9/site-packages/awseditorssparkmonitoringwidget/cellmonitor.py\", line 154, in <listcomp>\n",
      "    job_group_filtered_jobs = [job for job in jobs_data if job['jobGroup'] == str(statement_id)]\n",
      "KeyError: 'jobGroup'\n"
     ]
    },
    {
     "name": "stdout",
     "output_type": "stream",
     "text": [
      "0.6698467351369093\n",
      "63599.481802633076"
     ]
    }
   ],
   "source": [
    "# now try Gradient Boosted Trees regression using top 7 features\n",
    "\n",
    "# create a VectorAssembler to vectorize the dataframe.\n",
    "vectorAssembler = feat.VectorAssembler(\n",
    "    inputCols=[x for x in dummies.columns if x != 'median_house_value']\n",
    "    , outputCol='features', handleInvalid=\"skip\")\n",
    "\n",
    "# create a selector\n",
    "# select 7 features. we have total of 12 features\n",
    "selector = feat.UnivariateFeatureSelector(\n",
    "    labelCol='median_house_value'\n",
    "    , outputCol='selected'\n",
    "    , selectionMode = 'numTopFeatures'\n",
    "    ).setFeatureType(\"continuous\"\n",
    "    ).setLabelType(\"continuous\"\n",
    "    ).setSelectionThreshold(7) \n",
    "\n",
    "# Gradient Boosted Trees regression\n",
    "gbt_obj = rg.GBTRegressor(\n",
    "    labelCol='median_house_value',\n",
    "    featuresCol=selector.getOutputCol()\n",
    "    , minInstancesPerNode=10\n",
    "    , minInfoGain=0.1\n",
    ")\n",
    "\n",
    "# create a pipline to execute vectorAssembler and gbt_obj\n",
    "pip = Pipeline(stages=[vectorAssembler, selector, gbt_obj])\n",
    "\n",
    "# run the pipeline\n",
    "pModel = pip.fit(dummies.to_spark())\n",
    "\n",
    "#Evaluating the Gradient Boosted Regression model\n",
    "results = (pModel.transform(dummies.to_spark()).select('median_house_value', 'prediction'))\n",
    "\n",
    "evaluator = ev.RegressionEvaluator(labelCol='median_house_value')\n",
    "print(evaluator.evaluate(results, {evaluator.metricName: 'r2'}))\n",
    "print(evaluator.evaluate(results, {evaluator.metricName: 'rmse'}))"
   ]
  },
  {
   "cell_type": "code",
   "execution_count": 88,
   "id": "96f094bc",
   "metadata": {},
   "outputs": [
    {
     "data": {
      "application/vnd.jupyter.widget-view+json": {
       "model_id": "7672b1a428604be283e3b3b976089fb9",
       "version_major": 2,
       "version_minor": 0
      },
      "text/plain": [
       "VBox()"
      ]
     },
     "metadata": {},
     "output_type": "display_data"
    },
    {
     "data": {
      "application/vnd.jupyter.widget-view+json": {
       "model_id": "",
       "version_major": 2,
       "version_minor": 0
      },
      "text/plain": [
       "FloatProgress(value=0.0, bar_style='info', description='Progress:', layout=Layout(height='25px', width='50%'),…"
      ]
     },
     "metadata": {},
     "output_type": "display_data"
    },
    {
     "name": "stdout",
     "output_type": "stream",
     "text": [
      "   median_house_value     prediction\n",
      "0               94600  125668.261948\n",
      "1               85800   90149.978968\n",
      "2              103600   99392.023002\n",
      "3              111400   92000.772284\n",
      "4               78300   86878.248936"
     ]
    }
   ],
   "source": [
    "#get predictions from the model\n",
    "print(\n",
    "    pModel.transform(dummies.to_spark())\n",
    "    .pandas_api()\n",
    "    [['median_house_value', 'prediction']]\n",
    "    .head(5)\n",
    ")"
   ]
  },
  {
   "cell_type": "code",
   "execution_count": null,
   "id": "dab49ee3",
   "metadata": {},
   "outputs": [],
   "source": [
    "# r2 = 0.67, rootMeanSquareError = 63,599\n",
    "# comparing with model obtained with 12 features\n",
    "# r2 = 0.75, rootMeanSquareError = 55,085\n",
    "# this model seems to be slightly worse. however only 7 features are needed instead of 12."
   ]
  },
  {
   "cell_type": "code",
   "execution_count": 8,
   "id": "913b715e",
   "metadata": {},
   "outputs": [
    {
     "data": {
      "application/vnd.jupyter.widget-view+json": {
       "model_id": "7ff0ff9d30c249329574f216e3102a14",
       "version_major": 2,
       "version_minor": 0
      },
      "text/plain": [
       "VBox()"
      ]
     },
     "metadata": {},
     "output_type": "display_data"
    },
    {
     "data": {
      "application/vnd.jupyter.widget-view+json": {
       "model_id": "",
       "version_major": 2,
       "version_minor": 0
      },
      "text/plain": [
       "FloatProgress(value=0.0, bar_style='info', description='Progress:', layout=Layout(height='25px', width='50%'),…"
      ]
     },
     "metadata": {},
     "output_type": "display_data"
    },
    {
     "name": "stderr",
     "output_type": "stream",
     "text": [
      "Exception in thread cell_monitor-8:\n",
      "Traceback (most recent call last):\n",
      "  File \"/mnt/notebook-env/lib/python3.9/threading.py\", line 980, in _bootstrap_inner\n",
      "    self.run()\n",
      "  File \"/mnt/notebook-env/lib/python3.9/threading.py\", line 917, in run\n",
      "    self._target(*self._args, **self._kwargs)\n",
      "  File \"/mnt/notebook-env/lib/python3.9/site-packages/awseditorssparkmonitoringwidget/cellmonitor.py\", line 154, in cell_monitor\n",
      "    job_group_filtered_jobs = [job for job in jobs_data if job['jobGroup'] == str(statement_id)]\n",
      "  File \"/mnt/notebook-env/lib/python3.9/site-packages/awseditorssparkmonitoringwidget/cellmonitor.py\", line 154, in <listcomp>\n",
      "    job_group_filtered_jobs = [job for job in jobs_data if job['jobGroup'] == str(statement_id)]\n",
      "KeyError: 'jobGroup'\n"
     ]
    },
    {
     "name": "stdout",
     "output_type": "stream",
     "text": [
      "['longitude', 'latitude', 'housing_median_age', 'total_rooms', 'total_bedrooms', 'population', 'households', 'median_income', 'ocean_proximity_INLAND', 'ocean_proximity_ISLAND', 'ocean_proximity_NEAR BAY', 'ocean_proximity_NEAR OCEAN']\n",
      "Best params - regParam: 1.0, elasticNetParam: 0.0\n",
      "0.6376765368562181 66626.041089265 48720.58721320185\n",
      "/mnt/yarn/usercache/livy/appcache/application_1715577679324_0001/container_1715577679324_0001_01_000001/pyspark.zip/pyspark/pandas/utils.py:975: PandasAPIOnSparkAdviceWarning: If `index_col` is not specified for `to_spark`, the existing index is lost when converting to Spark DataFrame.\n",
      "  warnings.warn(message, PandasAPIOnSparkAdviceWarning)"
     ]
    }
   ],
   "source": [
    "# now try to tune regParam and elasticNetParam values using 12 features\n",
    "\n",
    "# create a VectorAssembler to vectorize the dataframe. exclude median_house_value column\n",
    "vectorAssembler = feat.VectorAssembler(\n",
    "    inputCols=[x for x in dummies.columns if x != 'median_house_value']\n",
    "    , outputCol='features', handleInvalid=\"skip\")\n",
    "\n",
    "\n",
    "# create a selector\n",
    "# select 12 features. we have total of 12 features\n",
    "selector = feat.UnivariateFeatureSelector(\n",
    "    labelCol='median_house_value'\n",
    "    , outputCol='selected'\n",
    "    , selectionMode = 'numTopFeatures'\n",
    "    ).setFeatureType(\"continuous\"\n",
    "    ).setLabelType(\"continuous\"\n",
    "    ).setSelectionThreshold(12) \n",
    "\n",
    "\n",
    "# create a Linear Regression object to be used to fit the data\n",
    "# set the featuresCol obtained from the selector\n",
    "lr_obj = rg.LinearRegression(\n",
    "    labelCol='median_house_value',\n",
    "    featuresCol=selector.getOutputCol(),\n",
    "    maxIter=10)\n",
    "\n",
    "\n",
    "#use ParamGridBuilder to build a grid of parameters\n",
    "linearReg_grid = (\n",
    "    tune.ParamGridBuilder()\n",
    "    #try values for regParam\n",
    "    .addGrid(lr_obj.regParam\n",
    "            ,  [0.0, 0.2, 0.4, 0.6, 0.8, 1]\n",
    "        )\n",
    "    #try values for elasticNetParam\n",
    "    .addGrid(lr_obj.elasticNetParam\n",
    "            ,  [0, 0.5, 1]\n",
    "        )\n",
    "    .build()\n",
    ")\n",
    "\n",
    "# create an evaluator\n",
    "evaluator = ev.RegressionEvaluator(labelCol='median_house_value')\n",
    "\n",
    "# use K-fold cross validation for grid search\n",
    "# CrossValidator binds all of these together\n",
    "# default value is k=3\n",
    "cross_v = tune.CrossValidator(\n",
    "    estimator=lr_obj\n",
    "    , estimatorParamMaps=linearReg_grid\n",
    "    , evaluator=evaluator\n",
    ")\n",
    "\n",
    "\n",
    "# create a pipeline for vectorAssembler\n",
    "pip = Pipeline(stages=[vectorAssembler, selector])\n",
    "\n",
    "# run the pipeline\n",
    "pModel = pip.fit(dummies.to_spark())\n",
    "\n",
    "\n",
    "# get the selected features\n",
    "data_trans_test = pModel.transform(dummies.to_spark())\n",
    "\n",
    "selected_cols = ([x['name'] for x in data_trans_test.schema['selected'].metadata['ml_attr']['attrs']['numeric']])\n",
    "\n",
    "print(selected_cols)\n",
    "\n",
    "\n",
    "linearReg_modelTest = cross_v.fit(\n",
    "    pModel.transform(dummies.to_spark())\n",
    ")\n",
    "\n",
    "print('Best params - regParam: {}, elasticNetParam: {}'.format(\n",
    "    linearReg_modelTest.bestModel._java_obj.getRegParam(),\n",
    "      linearReg_modelTest.bestModel._java_obj.getElasticNetParam()))\n",
    "\n",
    "\n",
    "# get the best model\n",
    "lr_model = linearReg_modelTest.bestModel\n",
    "\n",
    "#print model performance metrics\n",
    "summary = lr_model.summary\n",
    "print(\n",
    "    summary.r2\n",
    "    , summary.rootMeanSquaredError\n",
    "    , summary.meanAbsoluteError\n",
    ")\n",
    "\n",
    "\n"
   ]
  },
  {
   "cell_type": "code",
   "execution_count": 9,
   "id": "cea317b9",
   "metadata": {},
   "outputs": [
    {
     "data": {
      "application/vnd.jupyter.widget-view+json": {
       "model_id": "8bb68d0e04534a609f920286954c4a14",
       "version_major": 2,
       "version_minor": 0
      },
      "text/plain": [
       "VBox()"
      ]
     },
     "metadata": {},
     "output_type": "display_data"
    },
    {
     "data": {
      "application/vnd.jupyter.widget-view+json": {
       "model_id": "",
       "version_major": 2,
       "version_minor": 0
      },
      "text/plain": [
       "FloatProgress(value=0.0, bar_style='info', description='Progress:', layout=Layout(height='25px', width='50%'),…"
      ]
     },
     "metadata": {},
     "output_type": "display_data"
    },
    {
     "name": "stderr",
     "output_type": "stream",
     "text": [
      "Exception in thread cell_monitor-9:\n",
      "Traceback (most recent call last):\n",
      "  File \"/mnt/notebook-env/lib/python3.9/threading.py\", line 980, in _bootstrap_inner\n",
      "    self.run()\n",
      "  File \"/mnt/notebook-env/lib/python3.9/threading.py\", line 917, in run\n",
      "    self._target(*self._args, **self._kwargs)\n",
      "  File \"/mnt/notebook-env/lib/python3.9/site-packages/awseditorssparkmonitoringwidget/cellmonitor.py\", line 154, in cell_monitor\n",
      "    job_group_filtered_jobs = [job for job in jobs_data if job['jobGroup'] == str(statement_id)]\n",
      "  File \"/mnt/notebook-env/lib/python3.9/site-packages/awseditorssparkmonitoringwidget/cellmonitor.py\", line 154, in <listcomp>\n",
      "    job_group_filtered_jobs = [job for job in jobs_data if job['jobGroup'] == str(statement_id)]\n",
      "KeyError: 'jobGroup'\n"
     ]
    },
    {
     "name": "stdout",
     "output_type": "stream",
     "text": [
      "0.637676536856218 66626.041089265 48720.587213201405\n",
      "   median_house_value     prediction\n",
      "0               94600  202828.027339\n",
      "1               85800  101478.990588\n",
      "2              103600  143518.021082\n",
      "3              111400  181108.621281\n",
      "4               78300  120018.746366"
     ]
    }
   ],
   "source": [
    "# redo linear regression with regParam = 1  elasticNetParam = 0.0 obtained for best model\n",
    "# and use 12 features\n",
    "\n",
    "# create a VectorAssembler to vectorize the dataframe. exclude median_house_value column\n",
    "vectorAssembler = feat.VectorAssembler(\n",
    "    inputCols=[x for x in dummies.columns if x != 'median_house_value']\n",
    "    , outputCol='features', handleInvalid=\"skip\")\n",
    "\n",
    "\n",
    "# create a selector\n",
    "# select 12 features. we have total of 12 features\n",
    "selector = feat.UnivariateFeatureSelector(\n",
    "    labelCol='median_house_value'\n",
    "    , outputCol='selected'\n",
    "    , selectionMode = 'numTopFeatures'\n",
    "    ).setFeatureType(\"continuous\"\n",
    "    ).setLabelType(\"continuous\"\n",
    "    ).setSelectionThreshold(12) \n",
    "\n",
    "\n",
    "# create a Linear Regression object to be used to fit the data\n",
    "# set the featuresCol obtained from the selector\n",
    "lr_obj = rg.LinearRegression(\n",
    "    labelCol='median_house_value',\n",
    "    featuresCol=selector.getOutputCol(),\n",
    "    maxIter=10\n",
    "    , regParam=1\n",
    "    , elasticNetParam=0.0)\n",
    "\n",
    "\n",
    "# create a VectorAssembler to vectorize the dataframe. exclude median_house_value column\n",
    "vectorAssembler = feat.VectorAssembler(\n",
    "    inputCols=[x for x in dummies.columns if x != 'median_house_value']\n",
    "    , outputCol='features', handleInvalid=\"skip\")\n",
    "\n",
    "# create a pipeline for vectorAssembler, selector, linear regression\n",
    "pip = Pipeline(stages=[vectorAssembler, selector, lr_obj])\n",
    "\n",
    "# run the pipeline\n",
    "pModel = pip.fit(dummies.to_spark())\n",
    "\n",
    "#\n",
    "lr_model = pModel.stages[-1]\n",
    "\n",
    "\n",
    "#Evaluating the Linear Regression model\n",
    "\n",
    "#print model performance metrics\n",
    "summary = lr_model.summary\n",
    "print(\n",
    "    summary.r2\n",
    "    , summary.rootMeanSquaredError\n",
    "    , summary.meanAbsoluteError\n",
    ")\n",
    "\n",
    "\n",
    "#get predictions from the model\n",
    "(\n",
    "    pModel.transform(dummies.to_spark())\n",
    "    .pandas_api()\n",
    "    [['median_house_value', 'prediction']]\n",
    "    .head(5)\n",
    ")"
   ]
  }
 ],
 "metadata": {
  "kernelspec": {
   "display_name": "PySpark",
   "language": "python",
   "name": "pysparkkernel"
  },
  "language_info": {
   "codemirror_mode": {
    "name": "python",
    "version": 3
   },
   "file_extension": ".py",
   "mimetype": "text/x-python",
   "name": "pyspark",
   "pygments_lexer": "python3"
  }
 },
 "nbformat": 4,
 "nbformat_minor": 5
}
